{
 "cells": [
  {
   "cell_type": "markdown",
   "metadata": {},
   "source": [
    "# Regularized Logistic Regression\n",
    "\n",
    "This script implements a regularized logistic regression model to predict if a person has a heart disease based on a dataset containing some relevant information about the person's health.\n",
    "\n",
    "Part 1 contains a binary classifier and part 2 contains a multiclass classifier"
   ]
  },
  {
   "cell_type": "code",
   "execution_count": 1,
   "metadata": {},
   "outputs": [],
   "source": [
    "# Import relevant libraries\n",
    "import numpy as np\n",
    "import pandas as pd\n",
    "import matplotlib.pyplot as plt\n",
    "import math"
   ]
  },
  {
   "cell_type": "code",
   "execution_count": 2,
   "metadata": {},
   "outputs": [
    {
     "name": "stdout",
     "output_type": "stream",
     "text": [
      "Number of relevant features:  14\n"
     ]
    }
   ],
   "source": [
    "# Array with the relevant features\n",
    "relevant_features = [\"age\", \"sex\", \"cp\", \"trestbps\", \"chol\", \"fbs\", \"restecg\", \"thalach\", \"exang\", \"oldpeak\", \"slope\", \"ca\", \"thal\", \"diagnosis\"]\n",
    "print(\"Number of relevant features: \", len(relevant_features))\n",
    "\n",
    "# Import the dataset\n",
    "data = pd.read_csv(\"processed.cleveland.csv\", names=relevant_features)\n",
    "\n",
    "# Some of the data points might be unknown, represented with a '?'. Remove those unknown data samples.\n",
    "for i in range(len(data.columns)):\n",
    "    data.drop(data[data[relevant_features[i]] == '?'].index, inplace=True)\n",
    "\n",
    "data = data.astype('float64') "
   ]
  },
  {
   "cell_type": "markdown",
   "metadata": {},
   "source": [
    "## Part 1 - Binary Classification\n",
    "The dataset has 4 possible diseases, represented as integers ranging from 1 to 4.\n",
    "In this part, all the different diseases are considered as the same and the classification is performed in a binary manner, i.e. 0 represents absence of disease and 1 represents presence of disease."
   ]
  },
  {
   "cell_type": "code",
   "execution_count": 3,
   "metadata": {},
   "outputs": [
    {
     "data": {
      "text/html": [
       "<div>\n",
       "<style scoped>\n",
       "    .dataframe tbody tr th:only-of-type {\n",
       "        vertical-align: middle;\n",
       "    }\n",
       "\n",
       "    .dataframe tbody tr th {\n",
       "        vertical-align: top;\n",
       "    }\n",
       "\n",
       "    .dataframe thead th {\n",
       "        text-align: right;\n",
       "    }\n",
       "</style>\n",
       "<table border=\"1\" class=\"dataframe\">\n",
       "  <thead>\n",
       "    <tr style=\"text-align: right;\">\n",
       "      <th></th>\n",
       "      <th>age</th>\n",
       "      <th>sex</th>\n",
       "      <th>cp</th>\n",
       "      <th>trestbps</th>\n",
       "      <th>chol</th>\n",
       "      <th>fbs</th>\n",
       "      <th>restecg</th>\n",
       "      <th>thalach</th>\n",
       "      <th>exang</th>\n",
       "      <th>oldpeak</th>\n",
       "      <th>slope</th>\n",
       "      <th>ca</th>\n",
       "      <th>thal</th>\n",
       "      <th>diagnosis</th>\n",
       "    </tr>\n",
       "  </thead>\n",
       "  <tbody>\n",
       "    <tr>\n",
       "      <th>count</th>\n",
       "      <td>297.000000</td>\n",
       "      <td>297.000000</td>\n",
       "      <td>297.000000</td>\n",
       "      <td>297.000000</td>\n",
       "      <td>297.000000</td>\n",
       "      <td>297.000000</td>\n",
       "      <td>297.000000</td>\n",
       "      <td>297.000000</td>\n",
       "      <td>297.000000</td>\n",
       "      <td>297.000000</td>\n",
       "      <td>297.000000</td>\n",
       "      <td>297.000000</td>\n",
       "      <td>297.000000</td>\n",
       "      <td>297.000000</td>\n",
       "    </tr>\n",
       "    <tr>\n",
       "      <th>mean</th>\n",
       "      <td>54.542088</td>\n",
       "      <td>0.676768</td>\n",
       "      <td>3.158249</td>\n",
       "      <td>131.693603</td>\n",
       "      <td>247.350168</td>\n",
       "      <td>0.144781</td>\n",
       "      <td>0.996633</td>\n",
       "      <td>149.599327</td>\n",
       "      <td>0.326599</td>\n",
       "      <td>1.055556</td>\n",
       "      <td>1.602694</td>\n",
       "      <td>0.676768</td>\n",
       "      <td>4.730640</td>\n",
       "      <td>0.461279</td>\n",
       "    </tr>\n",
       "    <tr>\n",
       "      <th>std</th>\n",
       "      <td>9.049736</td>\n",
       "      <td>0.468500</td>\n",
       "      <td>0.964859</td>\n",
       "      <td>17.762806</td>\n",
       "      <td>51.997583</td>\n",
       "      <td>0.352474</td>\n",
       "      <td>0.994914</td>\n",
       "      <td>22.941562</td>\n",
       "      <td>0.469761</td>\n",
       "      <td>1.166123</td>\n",
       "      <td>0.618187</td>\n",
       "      <td>0.938965</td>\n",
       "      <td>1.938629</td>\n",
       "      <td>0.499340</td>\n",
       "    </tr>\n",
       "    <tr>\n",
       "      <th>min</th>\n",
       "      <td>29.000000</td>\n",
       "      <td>0.000000</td>\n",
       "      <td>1.000000</td>\n",
       "      <td>94.000000</td>\n",
       "      <td>126.000000</td>\n",
       "      <td>0.000000</td>\n",
       "      <td>0.000000</td>\n",
       "      <td>71.000000</td>\n",
       "      <td>0.000000</td>\n",
       "      <td>0.000000</td>\n",
       "      <td>1.000000</td>\n",
       "      <td>0.000000</td>\n",
       "      <td>3.000000</td>\n",
       "      <td>0.000000</td>\n",
       "    </tr>\n",
       "    <tr>\n",
       "      <th>25%</th>\n",
       "      <td>48.000000</td>\n",
       "      <td>0.000000</td>\n",
       "      <td>3.000000</td>\n",
       "      <td>120.000000</td>\n",
       "      <td>211.000000</td>\n",
       "      <td>0.000000</td>\n",
       "      <td>0.000000</td>\n",
       "      <td>133.000000</td>\n",
       "      <td>0.000000</td>\n",
       "      <td>0.000000</td>\n",
       "      <td>1.000000</td>\n",
       "      <td>0.000000</td>\n",
       "      <td>3.000000</td>\n",
       "      <td>0.000000</td>\n",
       "    </tr>\n",
       "    <tr>\n",
       "      <th>50%</th>\n",
       "      <td>56.000000</td>\n",
       "      <td>1.000000</td>\n",
       "      <td>3.000000</td>\n",
       "      <td>130.000000</td>\n",
       "      <td>243.000000</td>\n",
       "      <td>0.000000</td>\n",
       "      <td>1.000000</td>\n",
       "      <td>153.000000</td>\n",
       "      <td>0.000000</td>\n",
       "      <td>0.800000</td>\n",
       "      <td>2.000000</td>\n",
       "      <td>0.000000</td>\n",
       "      <td>3.000000</td>\n",
       "      <td>0.000000</td>\n",
       "    </tr>\n",
       "    <tr>\n",
       "      <th>75%</th>\n",
       "      <td>61.000000</td>\n",
       "      <td>1.000000</td>\n",
       "      <td>4.000000</td>\n",
       "      <td>140.000000</td>\n",
       "      <td>276.000000</td>\n",
       "      <td>0.000000</td>\n",
       "      <td>2.000000</td>\n",
       "      <td>166.000000</td>\n",
       "      <td>1.000000</td>\n",
       "      <td>1.600000</td>\n",
       "      <td>2.000000</td>\n",
       "      <td>1.000000</td>\n",
       "      <td>7.000000</td>\n",
       "      <td>1.000000</td>\n",
       "    </tr>\n",
       "    <tr>\n",
       "      <th>max</th>\n",
       "      <td>77.000000</td>\n",
       "      <td>1.000000</td>\n",
       "      <td>4.000000</td>\n",
       "      <td>200.000000</td>\n",
       "      <td>564.000000</td>\n",
       "      <td>1.000000</td>\n",
       "      <td>2.000000</td>\n",
       "      <td>202.000000</td>\n",
       "      <td>1.000000</td>\n",
       "      <td>6.200000</td>\n",
       "      <td>3.000000</td>\n",
       "      <td>3.000000</td>\n",
       "      <td>7.000000</td>\n",
       "      <td>1.000000</td>\n",
       "    </tr>\n",
       "  </tbody>\n",
       "</table>\n",
       "</div>"
      ],
      "text/plain": [
       "              age         sex          cp    trestbps        chol         fbs  \\\n",
       "count  297.000000  297.000000  297.000000  297.000000  297.000000  297.000000   \n",
       "mean    54.542088    0.676768    3.158249  131.693603  247.350168    0.144781   \n",
       "std      9.049736    0.468500    0.964859   17.762806   51.997583    0.352474   \n",
       "min     29.000000    0.000000    1.000000   94.000000  126.000000    0.000000   \n",
       "25%     48.000000    0.000000    3.000000  120.000000  211.000000    0.000000   \n",
       "50%     56.000000    1.000000    3.000000  130.000000  243.000000    0.000000   \n",
       "75%     61.000000    1.000000    4.000000  140.000000  276.000000    0.000000   \n",
       "max     77.000000    1.000000    4.000000  200.000000  564.000000    1.000000   \n",
       "\n",
       "          restecg     thalach       exang     oldpeak       slope          ca  \\\n",
       "count  297.000000  297.000000  297.000000  297.000000  297.000000  297.000000   \n",
       "mean     0.996633  149.599327    0.326599    1.055556    1.602694    0.676768   \n",
       "std      0.994914   22.941562    0.469761    1.166123    0.618187    0.938965   \n",
       "min      0.000000   71.000000    0.000000    0.000000    1.000000    0.000000   \n",
       "25%      0.000000  133.000000    0.000000    0.000000    1.000000    0.000000   \n",
       "50%      1.000000  153.000000    0.000000    0.800000    2.000000    0.000000   \n",
       "75%      2.000000  166.000000    1.000000    1.600000    2.000000    1.000000   \n",
       "max      2.000000  202.000000    1.000000    6.200000    3.000000    3.000000   \n",
       "\n",
       "             thal   diagnosis  \n",
       "count  297.000000  297.000000  \n",
       "mean     4.730640    0.461279  \n",
       "std      1.938629    0.499340  \n",
       "min      3.000000    0.000000  \n",
       "25%      3.000000    0.000000  \n",
       "50%      3.000000    0.000000  \n",
       "75%      7.000000    1.000000  \n",
       "max      7.000000    1.000000  "
      ]
     },
     "execution_count": 3,
     "metadata": {},
     "output_type": "execute_result"
    }
   ],
   "source": [
    "# Array with binary data (disease or not disease)\n",
    "data_binary = data.copy()\n",
    "data_binary[\"diagnosis\"] = data_binary.diagnosis.map({0: 0, 1: 1, 2: 1, 3: 1, 4: 1})\n",
    "data_binary.describe()"
   ]
  },
  {
   "cell_type": "code",
   "execution_count": 4,
   "metadata": {},
   "outputs": [
    {
     "data": {
      "text/plain": [
       "(array([160.,   0.,   0.,   0.,   0.,   0.,   0.,   0.,   0., 137.]),\n",
       " array([0. , 0.1, 0.2, 0.3, 0.4, 0.5, 0.6, 0.7, 0.8, 0.9, 1. ]),\n",
       " <BarContainer object of 10 artists>)"
      ]
     },
     "execution_count": 4,
     "metadata": {},
     "output_type": "execute_result"
    },
    {
     "data": {
      "image/png": "[encoded data removed]",
      "text/plain": [
       "<Figure size 432x288 with 1 Axes>"
      ]
     },
     "metadata": {
      "needs_background": "light"
     },
     "output_type": "display_data"
    }
   ],
   "source": [
    "data_binary_n = data_binary.values\n",
    "#print(data_binary_n.shape)\n",
    "\n",
    "# Extract the features to array X\n",
    "X_binary = data_binary_n[:,:-1]\n",
    "\n",
    "# Extract the labels to array y\n",
    "y_binary = data_binary_n[:,-1]\n",
    "y_binary = y_binary.reshape(len(y_binary), 1)\n",
    "\n",
    "#print(X_binary.shape)\n",
    "#print(y_binary.shape)\n",
    "\n",
    "# Plot the count of diseases\n",
    "plt.title(\"Count of diseased samples\")\n",
    "plt.xlabel(\"Disease\")\n",
    "plt.ylabel(\"Count\")\n",
    "plt.hist(y_binary)"
   ]
  },
  {
   "cell_type": "code",
   "execution_count": 5,
   "metadata": {},
   "outputs": [],
   "source": [
    "def featureNormalization(X):\n",
    "    \"\"\"\n",
    "    Take in numpy array of X values and return normalize X values,\n",
    "    the mean and standard deviation of each feature\n",
    "    \"\"\"\n",
    "    mean= np.mean(X,axis=0)\n",
    "    std= np.std(X,axis=0)\n",
    "    \n",
    "    X_norm = (X-mean)/std\n",
    "    \n",
    "    return X_norm , mean , std"
   ]
  },
  {
   "cell_type": "code",
   "execution_count": 6,
   "metadata": {},
   "outputs": [],
   "source": [
    "# Normalize the features\n",
    "X_binary_norm, X_binary_mean, X_binary_std = featureNormalization(X_binary)\n",
    "#print(X_binary_norm.shape)"
   ]
  },
  {
   "cell_type": "code",
   "execution_count": 7,
   "metadata": {},
   "outputs": [],
   "source": [
    "def sigmoid(z):\n",
    "    \"\"\"\n",
    "    return the sigmoid of z\n",
    "    \"\"\"\n",
    "\n",
    "    gz=1/(1+np.exp(-z))\n",
    "    \n",
    "    return gz"
   ]
  },
  {
   "cell_type": "code",
   "execution_count": 8,
   "metadata": {},
   "outputs": [],
   "source": [
    " def costFunctionReg(X, y, theta, Lambda):\n",
    "    \"\"\"\n",
    "    Take in numpy array of  data X, labels y and theta, to return the regularized cost function and gradients\n",
    "    of the logistic regression classifier\n",
    "    \"\"\"\n",
    "    \n",
    "    #number of training examples \n",
    "    m=len(y)\n",
    "        \n",
    "    #vector of the model predictions for all training examples      \n",
    "    h = sigmoid(np.dot(X, theta))\n",
    "    \n",
    "    error = (-y * np.log(h)) - ((1-y)*np.log(1-h))\n",
    "    \n",
    "    #cost function without regularization term\n",
    "    cost = sum(error)/m\n",
    "    \n",
    "    #add regularization term to the cost function\n",
    "    regCost= cost + Lambda/(2*m) * sum(theta[1:]**2)\n",
    "    \n",
    "    #gradient of theta_0\n",
    "    grad_0= (1/m) * np.dot(X.transpose(),(h - y))[0]\n",
    "    \n",
    "    #vector of gradients of theta_j from j=1:n (adding the regularization term of the gradient)\n",
    "    grad = (1/m) * np.dot(X.transpose(),(h - y))[1:] + (Lambda/m)* theta[1:]\n",
    "       \n",
    "    # all gradients in a column vector shape\n",
    "    grad_all=np.append(grad_0,grad)\n",
    "    grad_all = grad_all.reshape((len(grad_all), 1))\n",
    "    \n",
    "    return regCost[0], grad_all"
   ]
  },
  {
   "cell_type": "code",
   "execution_count": 9,
   "metadata": {},
   "outputs": [
    {
     "name": "stdout",
     "output_type": "stream",
     "text": [
      "Cost for initial theta is 0.693\n"
     ]
    }
   ],
   "source": [
    "# Initialize theta with zeros\n",
    "initial_theta_binary = np.zeros((X_binary_norm.shape[1],1))\n",
    "#print(initial_theta_binary.shape)\n",
    "\n",
    "# Initialize lambda (regularization parameter) with zero\n",
    "    # Small lambda -> low bias and high variance\n",
    "    # High lambda  -> high bias and low variance\n",
    "Lambda = 0\n",
    "\n",
    "# Compute the cost function\n",
    "cost, grad = costFunctionReg(X_binary_norm, y_binary, initial_theta_binary, Lambda)\n",
    "\n",
    "print(\"Cost for initial theta is\",round(cost,3) )"
   ]
  },
  {
   "cell_type": "code",
   "execution_count": 10,
   "metadata": {},
   "outputs": [],
   "source": [
    "def gradientDescent(X, y, theta, alpha, num_iters, Lambda):\n",
    "    \"\"\"\n",
    "    Take in numpy array X, y and theta and update theta by taking num_iters gradient steps\n",
    "    with learning rate of alpha\n",
    "    \n",
    "    return theta and the list of the cost of theta during each iteration\n",
    "    \"\"\"\n",
    "    \n",
    "    J_history =[]\n",
    "    \n",
    "    for i in range(num_iters):\n",
    "        \n",
    "        #call CostFunctionReg \n",
    "        cost, grad = costFunctionReg(X, y, theta, Lambda)\n",
    "        \n",
    "        #update theta\n",
    "        theta = theta - (alpha*grad)\n",
    "        \n",
    "        J_history.append(cost)\n",
    "    \n",
    "    return theta , J_history"
   ]
  },
  {
   "cell_type": "code",
   "execution_count": 11,
   "metadata": {},
   "outputs": [],
   "source": [
    "Lambda = 0\n",
    "alpha = 0.5\n",
    "\n",
    "# Number of iterations\n",
    "iterat = 100\n",
    "\n",
    "# Initialize theta with zeros\n",
    "initial_theta_binary = np.zeros((X_binary_norm.shape[1],1))\n",
    "\n",
    "# Compute the model parameters with gradient descent\n",
    "theta_binary , J_history = gradientDescent(X_binary_norm, y_binary, initial_theta_binary, alpha, iterat, Lambda)"
   ]
  },
  {
   "cell_type": "code",
   "execution_count": 12,
   "metadata": {},
   "outputs": [
    {
     "data": {
      "text/plain": [
       "Text(0.5, 1.0, 'Cost function using Gradient Descent')"
      ]
     },
     "execution_count": 12,
     "metadata": {},
     "output_type": "execute_result"
    },
    {
     "data": {
      "image/png": "[encoded data removed]",
      "text/plain": [
       "<Figure size 432x288 with 1 Axes>"
      ]
     },
     "metadata": {
      "needs_background": "light"
     },
     "output_type": "display_data"
    }
   ],
   "source": [
    "# Plot the evolution of the cost function to see if it converges\n",
    "plt.plot(J_history)\n",
    "plt.xlabel(\"Iteration\")\n",
    "plt.ylabel(\"$J(\\Theta)$\")\n",
    "plt.title(\"Cost function using Gradient Descent\")"
   ]
  },
  {
   "cell_type": "code",
   "execution_count": 13,
   "metadata": {},
   "outputs": [],
   "source": [
    "def classifierAccuracy(X, y, theta):\n",
    "    \"\"\"\n",
    "    take in numpy array of X, y and theta, and compute the accuracy of the classifier \n",
    "    \"\"\"\n",
    "    h = np.dot(X, theta)\n",
    "    \n",
    "    acc = (sum((h>0)==y)/len(y)*100)[0]\n",
    "    \n",
    "    return acc"
   ]
  },
  {
   "cell_type": "code",
   "execution_count": 14,
   "metadata": {},
   "outputs": [
    {
     "name": "stdout",
     "output_type": "stream",
     "text": [
      "Train Accuracy: 84.51178451178451 %\n"
     ]
    }
   ],
   "source": [
    "# Compute the accuracy of the classifier\n",
    "acc = classifierAccuracy(X_binary_norm, y_binary, theta_binary)\n",
    "\n",
    "print(\"Train Accuracy:\", acc, \"%\") "
   ]
  },
  {
   "cell_type": "code",
   "execution_count": 15,
   "metadata": {},
   "outputs": [],
   "source": [
    "def classifierPredict(X, theta):\n",
    "    \"\"\"\n",
    "    take in numpy array of X and theta, and predict the class\n",
    "    \"\"\"\n",
    "    prob = sigmoid(np.dot(X, theta))\n",
    "    \n",
    "    if prob > 0.5:\n",
    "        predClass = 1\n",
    "    else:\n",
    "        predClass = 0\n",
    "    \n",
    "    return predClass"
   ]
  },
  {
   "cell_type": "code",
   "execution_count": 16,
   "metadata": {},
   "outputs": [
    {
     "name": "stdout",
     "output_type": "stream",
     "text": [
      "Predicted class:  1\n"
     ]
    }
   ],
   "source": [
    "# Array with the input features\n",
    "X_binary_test = np.array([62.0, 1.0, 4.0, 130.0, 254.0, 0.0, 2.5, 147.0, 0.0, 0.4, 2.0, 1.0, 7.0])\n",
    "X_binary_test = X_binary_test.reshape(1, len(X_binary_test))\n",
    "\n",
    "#Normalize the values\n",
    "X_binary_test = (X_binary_test - X_binary_mean)/X_binary_std\n",
    "\n",
    "#Compute the prediction\n",
    "pred = classifierPredict(X_binary_test, theta_binary)\n",
    "print(\"Predicted class: \", pred)\n"
   ]
  },
  {
   "cell_type": "markdown",
   "metadata": {},
   "source": [
    "## Model validation - training, cross validation and testing\n",
    "In this section, we divide the dataset in three subsets: train set, cross validation set and test set.\n",
    "The purpose of these subsets is to first train the model, then validate if the model performs well with unknown data and finally test the model.\n",
    "At the end, we compute the best regularization parameter $\\lambda$."
   ]
  },
  {
   "cell_type": "code",
   "execution_count": 17,
   "metadata": {},
   "outputs": [],
   "source": [
    "# Divide the dataset into three subsets: train (60%), validation (20%) and test (20%). Then normalize each subset examples.\n",
    "\n",
    "X_binary_train = X_binary[0:math.floor(X_binary.shape[0]*0.60),:]\n",
    "y_binary_train = y_binary[0:math.floor(y_binary.shape[0]*0.60),:]\n",
    "X_binary_train_norm, X_binary_train_mean, X_binary_train_std = featureNormalization(X_binary_train)\n",
    "#print(X_binary_train_norm.shape)\n",
    "#print(y_binary_train.shape)\n",
    "\n",
    "X_binary_val = X_binary[0:math.floor(X_binary.shape[0]*0.20),:]\n",
    "y_binary_val = y_binary[0:math.floor(y_binary.shape[0]*0.20),:]\n",
    "X_binary_val_norm, X_binary_val_mean, X_binary_val_std = featureNormalization(X_binary_val)\n",
    "#print(X_binary_val_norm.shape)\n",
    "#print(y_binary_val.shape)\n",
    "\n",
    "X_binary_test = X_binary[0:math.floor(X_binary.shape[0]*0.20),:]\n",
    "y_binary_test = y_binary[0:math.floor(y_binary.shape[0]*0.20),:]\n",
    "X_binary_test_norm, X_binary_test_mean, X_binary_test_std = featureNormalization(X_binary_test)\n",
    "#print(X_binary_test_norm.shape)\n",
    "#print(y_binary_test.shape)\n"
   ]
  },
  {
   "cell_type": "code",
   "execution_count": 18,
   "metadata": {},
   "outputs": [],
   "source": [
    "def learningCurve(X, y, Xval, yval, learn_rate, num_iter, Lambda):\n",
    "    \n",
    "    \"\"\"\n",
    "    Returns the train and cross validation set errors for a learning curve\n",
    "    \"\"\"\n",
    "   \n",
    "    m = X.shape[0]  # Number of training examples \n",
    "    n= X.shape[1]  # number of features \n",
    "    mval = len(yval)  # Number of validation examples \n",
    "\n",
    "    error_train, error_val = [],[]\n",
    "    \n",
    "    for i in range(1,m+1):\n",
    "        \n",
    "        # inicialize all theta at 0. \n",
    "        initial_theta = np.zeros((n,1))\n",
    "        Xtrain=X[0:i,:]\n",
    "        ytrain=y[0:i,:]\n",
    "        theta = gradientDescent( Xtrain, ytrain, initial_theta, learn_rate, num_iter, Lambda)[0]\n",
    "        \n",
    "        h_train = np.dot(Xtrain, theta)\n",
    "        h_val = np.dot(Xval, theta)\n",
    "        \n",
    "        error_train_i = 1/(2*m) * np.sum((h_train - ytrain)**2)\n",
    "        error_val_i = 1/(2*mval) * np.sum((h_val - yval)**2)\n",
    "        \n",
    "        error_train.append(error_train_i)\n",
    "        error_val.append(error_val_i)\n",
    "\n",
    "    return error_train, error_val"
   ]
  },
  {
   "cell_type": "code",
   "execution_count": 19,
   "metadata": {},
   "outputs": [
    {
     "data": {
      "text/plain": [
       "<matplotlib.legend.Legend at 0x7f217ea50310>"
      ]
     },
     "execution_count": 19,
     "metadata": {},
     "output_type": "execute_result"
    },
    {
     "data": {
      "image/png": "[encoded data removed]",
      "text/plain": [
       "<Figure size 432x288 with 1 Axes>"
      ]
     },
     "metadata": {
      "needs_background": "light"
     },
     "output_type": "display_data"
    }
   ],
   "source": [
    "#Call learningCurve to compute E_train and E_validation\n",
    "error_train, error_val = learningCurve(X_binary_train_norm, y_binary_train, X_binary_val_norm, y_binary_val, alpha, iterat, Lambda)\n",
    "\n",
    "# Plot the training and validation errors\n",
    "plt.plot(range(1,len(X_binary_train)+1),error_train)\n",
    "plt.plot(range(1,len(X_binary_train)+1), error_val,color=\"r\")\n",
    "plt.title(\"Learning Curve for Logistic Regression\")\n",
    "plt.xlabel(\"Number of training examples\")\n",
    "plt.ylabel(\"Error\")\n",
    "plt.legend([\"Train\", \"Cross Validation\"])"
   ]
  },
  {
   "cell_type": "code",
   "execution_count": 20,
   "metadata": {},
   "outputs": [],
   "source": [
    "def validationCurve (X, y, Xval, yval, learn_rate, num_iter, Lambda_array):\n",
    "\n",
    "    \"\"\"\n",
    "    Returns the best lambda and the respective train and cross validation set errors\n",
    "    \"\"\"\n",
    "    m = X.shape[0]  # Number of training examples \n",
    "    n = X.shape[1]  # number of features \n",
    "    mval = Xval.shape[0]  # Number of validation examples \n",
    "    \n",
    "    error_train, error_val = [],[]\n",
    "    \n",
    "    for lam in Lambda_array:\n",
    "        theta_ini=np.zeros((n,1))\n",
    "        theta = gradientDescent( X, y, theta_ini, learn_rate, num_iter, lam)[0]\n",
    "        pred_train = np.dot(X,theta)\n",
    "        pred_val = np.dot(Xval,theta)\n",
    "        error_train_i = 1/(2*m) * np.sum((pred_train - y)**2)\n",
    "        error_val_i = 1/(2*mval) * np.sum((pred_val - yval)**2)\n",
    "        error_train.append(error_train_i)\n",
    "        error_val.append(error_val_i)\n",
    "    \n",
    "    ind = np.argmin(error_val)\n",
    "    best_lambda=Lambda_array[ind]\n",
    "        \n",
    "    return best_lambda, error_train, error_val"
   ]
  },
  {
   "cell_type": "code",
   "execution_count": 35,
   "metadata": {},
   "outputs": [
    {
     "name": "stdout",
     "output_type": "stream",
     "text": [
      "Best lambda: 15\n",
      "Train error: 1.2758990781716286\n",
      "Cross validation error: 1.1887513297801944\n",
      "Test error: 1.1887513297801944\n"
     ]
    },
    {
     "data": {
      "image/png": "[encoded data removed]",
      "text/plain": [
       "<Figure size 432x288 with 1 Axes>"
      ]
     },
     "metadata": {
      "needs_background": "light"
     },
     "output_type": "display_data"
    }
   ],
   "source": [
    "# Values of lambda to try\n",
    "Lambda_array = [0.001, 0.003, 0.01, 0.03, 0.1, 0.3, 1, 3, 10, 15]\n",
    "\n",
    "# Compute the best lambda value and the train and cross validation errors\n",
    "best_lambda, error_train, error_val = validationCurve(X_binary_train_norm, y_binary_train, X_binary_val_norm, y_binary_val, alpha, iterat, Lambda_array)\n",
    "print(\"Best lambda:\", best_lambda)\n",
    "# If we try bigger lambda values, we see that the error slowly decreases until ~300 and at this point the error\n",
    "# starts slowly increasing. This way, using a small value like 15 or a bigger value like 300 is the same.\n",
    "\n",
    "plt.plot(Lambda_array, error_train, label=\"Train\")\n",
    "plt.plot(Lambda_array, error_val, label=\"Cross Validation\", color=\"r\")\n",
    "plt.xlabel(\"Lambda\")\n",
    "plt.ylabel(\"Error\")\n",
    "plt.legend()\n",
    "\n",
    "\n",
    "#for the best_lambda computed above, print the training (Etrain), validation (Eval) and test (Etest) errors\n",
    "\n",
    "# inicialize all theta at 0. \n",
    "theta_ini = np.zeros((X_binary_train_norm.shape[1], 1))\n",
    "#train the model with best_theta and the train set\n",
    "theta_binary = gradientDescent(X_binary_train_norm, y_binary_train, theta_ini,  alpha, iterat, best_lambda)[0]\n",
    "\n",
    "pred = np.dot(X_binary_train_norm, theta_binary)\n",
    "Etrain = 1/(2*len(X_binary_train_norm)) * np.sum((pred - y_binary_train)**2)\n",
    "\n",
    "pred_val = np.dot(X_binary_val_norm, theta_binary)\n",
    "Eval = 1/(2*len(X_binary_val_norm)) * np.sum((pred_val - y_binary_val)**2)\n",
    "\n",
    "pred_test = np.dot(X_binary_test_norm, theta_binary)\n",
    "Etest = 1/(2*len(X_binary_test_norm)) * np.sum((pred_test - y_binary_test)**2)\n",
    "\n",
    "print(\"Train error:\", Etrain)\n",
    "print(\"Cross validation error:\", Eval)\n",
    "print(\"Test error:\", Etest)\n"
   ]
  },
  {
   "cell_type": "markdown",
   "metadata": {},
   "source": [
    "## Testing the binary classifier\n",
    "In this section, we will perform some tests on the binary classifier.\n",
    "We predict the entire dataset examples to calculate the model accuracy, sensitivity, specificity, precision and F1 score."
   ]
  },
  {
   "cell_type": "code",
   "execution_count": 22,
   "metadata": {},
   "outputs": [
    {
     "name": "stdout",
     "output_type": "stream",
     "text": [
      "Accuracy (binary):  0.8135593220338984\n",
      "Sensitivity (binary):  0.76\n",
      "Specificity (binary):  0.8529411764705882\n",
      "Precision (binary):  0.7916666666666666\n",
      "F1 score (binary):  0.7755102040816326\n"
     ]
    },
    {
     "data": {
      "image/png": "[encoded data removed]",
      "text/plain": [
       "<Figure size 432x288 with 2 Axes>"
      ]
     },
     "metadata": {
      "needs_background": "light"
     },
     "output_type": "display_data"
    }
   ],
   "source": [
    "# Import libraries\n",
    "from sklearn.metrics import confusion_matrix\n",
    "import seaborn as sns\n",
    "\n",
    "# y_binary_pred will contain the predictions for every example in the dataset\n",
    "y_binary_pred = np.zeros((y_binary_test.shape[0], y_binary_test.shape[1]))\n",
    "\n",
    "# For each example in the dataset, compute the prediction\n",
    "for i in range(len(y_binary_test)):\n",
    "    y_binary_pred[i] = classifierPredict(X_binary_test_norm[i], theta_binary)\n",
    "\n",
    "# Compute the confusion matrix\n",
    "cm_binary = confusion_matrix(y_binary_test, y_binary_pred)\n",
    "\n",
    "# Obtain the true and false positives and negatives\n",
    "tn_binary, fp_binary, fn_binary, tp_binary = cm_binary.ravel()\n",
    "\n",
    "# Plot the confusion matrix in a graphical way\n",
    "group_names = [\"True Negative\",\"False Positive\",\"False Negative\",\"True Positive\"]\n",
    "group_counts = [\"{0:0.0f}\".format(value) for value in cm_binary.flatten()]\n",
    "labels = [f\"{v1}\\n{v2}\" for v1,v2 in zip(group_names,group_counts)]\n",
    "labels = np.asarray(labels).reshape(2,2)\n",
    "sns.heatmap(cm_binary, annot=labels, fmt=\"\")\n",
    "plt.title(\"Confusion Matrix for Binary Classifier\")\n",
    "\n",
    "# Compute the following parameters:\n",
    "accuracy_binary = (tp_binary + tn_binary) / (tp_binary + tn_binary + fp_binary + fn_binary)\n",
    "sensitivity_binary = (tp_binary) / (tp_binary + fn_binary)\n",
    "specifity_binary = (tn_binary) / (tn_binary + fp_binary)\n",
    "precision_binary = (tp_binary) / (tp_binary + fp_binary)\n",
    "F1_binary = 2*(sensitivity_binary * precision_binary)/(sensitivity_binary+precision_binary)\n",
    "\n",
    "print(\"Accuracy (binary): \", accuracy_binary)\n",
    "print(\"Sensitivity (binary): \", sensitivity_binary)\n",
    "print(\"Specificity (binary): \", specifity_binary)\n",
    "print(\"Precision (binary): \", precision_binary)\n",
    "print(\"F1 score (binary): \", F1_binary)\n"
   ]
  },
  {
   "cell_type": "code",
   "execution_count": null,
   "metadata": {},
   "outputs": [],
   "source": []
  },
  {
   "cell_type": "markdown",
   "metadata": {},
   "source": [
    "## Part 2 - Multiclass Classification\n",
    "In this part, it is performed a multiclass classification.\n",
    "The classifier is capable of predicting the type of disease from a set of 4 possible diseases.\n",
    "The possible results are: 0 - absence of disease; 1 through 4 - the type of disease;"
   ]
  },
  {
   "cell_type": "code",
   "execution_count": 23,
   "metadata": {},
   "outputs": [
    {
     "data": {
      "text/html": [
       "<div>\n",
       "<style scoped>\n",
       "    .dataframe tbody tr th:only-of-type {\n",
       "        vertical-align: middle;\n",
       "    }\n",
       "\n",
       "    .dataframe tbody tr th {\n",
       "        vertical-align: top;\n",
       "    }\n",
       "\n",
       "    .dataframe thead th {\n",
       "        text-align: right;\n",
       "    }\n",
       "</style>\n",
       "<table border=\"1\" class=\"dataframe\">\n",
       "  <thead>\n",
       "    <tr style=\"text-align: right;\">\n",
       "      <th></th>\n",
       "      <th>age</th>\n",
       "      <th>sex</th>\n",
       "      <th>cp</th>\n",
       "      <th>trestbps</th>\n",
       "      <th>chol</th>\n",
       "      <th>fbs</th>\n",
       "      <th>restecg</th>\n",
       "      <th>thalach</th>\n",
       "      <th>exang</th>\n",
       "      <th>oldpeak</th>\n",
       "      <th>slope</th>\n",
       "      <th>ca</th>\n",
       "      <th>thal</th>\n",
       "      <th>diagnosis</th>\n",
       "    </tr>\n",
       "  </thead>\n",
       "  <tbody>\n",
       "    <tr>\n",
       "      <th>count</th>\n",
       "      <td>297.000000</td>\n",
       "      <td>297.000000</td>\n",
       "      <td>297.000000</td>\n",
       "      <td>297.000000</td>\n",
       "      <td>297.000000</td>\n",
       "      <td>297.000000</td>\n",
       "      <td>297.000000</td>\n",
       "      <td>297.000000</td>\n",
       "      <td>297.000000</td>\n",
       "      <td>297.000000</td>\n",
       "      <td>297.000000</td>\n",
       "      <td>297.000000</td>\n",
       "      <td>297.000000</td>\n",
       "      <td>297.000000</td>\n",
       "    </tr>\n",
       "    <tr>\n",
       "      <th>mean</th>\n",
       "      <td>54.542088</td>\n",
       "      <td>0.676768</td>\n",
       "      <td>3.158249</td>\n",
       "      <td>131.693603</td>\n",
       "      <td>247.350168</td>\n",
       "      <td>0.144781</td>\n",
       "      <td>0.996633</td>\n",
       "      <td>149.599327</td>\n",
       "      <td>0.326599</td>\n",
       "      <td>1.055556</td>\n",
       "      <td>1.602694</td>\n",
       "      <td>0.676768</td>\n",
       "      <td>4.730640</td>\n",
       "      <td>0.946128</td>\n",
       "    </tr>\n",
       "    <tr>\n",
       "      <th>std</th>\n",
       "      <td>9.049736</td>\n",
       "      <td>0.468500</td>\n",
       "      <td>0.964859</td>\n",
       "      <td>17.762806</td>\n",
       "      <td>51.997583</td>\n",
       "      <td>0.352474</td>\n",
       "      <td>0.994914</td>\n",
       "      <td>22.941562</td>\n",
       "      <td>0.469761</td>\n",
       "      <td>1.166123</td>\n",
       "      <td>0.618187</td>\n",
       "      <td>0.938965</td>\n",
       "      <td>1.938629</td>\n",
       "      <td>1.234551</td>\n",
       "    </tr>\n",
       "    <tr>\n",
       "      <th>min</th>\n",
       "      <td>29.000000</td>\n",
       "      <td>0.000000</td>\n",
       "      <td>1.000000</td>\n",
       "      <td>94.000000</td>\n",
       "      <td>126.000000</td>\n",
       "      <td>0.000000</td>\n",
       "      <td>0.000000</td>\n",
       "      <td>71.000000</td>\n",
       "      <td>0.000000</td>\n",
       "      <td>0.000000</td>\n",
       "      <td>1.000000</td>\n",
       "      <td>0.000000</td>\n",
       "      <td>3.000000</td>\n",
       "      <td>0.000000</td>\n",
       "    </tr>\n",
       "    <tr>\n",
       "      <th>25%</th>\n",
       "      <td>48.000000</td>\n",
       "      <td>0.000000</td>\n",
       "      <td>3.000000</td>\n",
       "      <td>120.000000</td>\n",
       "      <td>211.000000</td>\n",
       "      <td>0.000000</td>\n",
       "      <td>0.000000</td>\n",
       "      <td>133.000000</td>\n",
       "      <td>0.000000</td>\n",
       "      <td>0.000000</td>\n",
       "      <td>1.000000</td>\n",
       "      <td>0.000000</td>\n",
       "      <td>3.000000</td>\n",
       "      <td>0.000000</td>\n",
       "    </tr>\n",
       "    <tr>\n",
       "      <th>50%</th>\n",
       "      <td>56.000000</td>\n",
       "      <td>1.000000</td>\n",
       "      <td>3.000000</td>\n",
       "      <td>130.000000</td>\n",
       "      <td>243.000000</td>\n",
       "      <td>0.000000</td>\n",
       "      <td>1.000000</td>\n",
       "      <td>153.000000</td>\n",
       "      <td>0.000000</td>\n",
       "      <td>0.800000</td>\n",
       "      <td>2.000000</td>\n",
       "      <td>0.000000</td>\n",
       "      <td>3.000000</td>\n",
       "      <td>0.000000</td>\n",
       "    </tr>\n",
       "    <tr>\n",
       "      <th>75%</th>\n",
       "      <td>61.000000</td>\n",
       "      <td>1.000000</td>\n",
       "      <td>4.000000</td>\n",
       "      <td>140.000000</td>\n",
       "      <td>276.000000</td>\n",
       "      <td>0.000000</td>\n",
       "      <td>2.000000</td>\n",
       "      <td>166.000000</td>\n",
       "      <td>1.000000</td>\n",
       "      <td>1.600000</td>\n",
       "      <td>2.000000</td>\n",
       "      <td>1.000000</td>\n",
       "      <td>7.000000</td>\n",
       "      <td>2.000000</td>\n",
       "    </tr>\n",
       "    <tr>\n",
       "      <th>max</th>\n",
       "      <td>77.000000</td>\n",
       "      <td>1.000000</td>\n",
       "      <td>4.000000</td>\n",
       "      <td>200.000000</td>\n",
       "      <td>564.000000</td>\n",
       "      <td>1.000000</td>\n",
       "      <td>2.000000</td>\n",
       "      <td>202.000000</td>\n",
       "      <td>1.000000</td>\n",
       "      <td>6.200000</td>\n",
       "      <td>3.000000</td>\n",
       "      <td>3.000000</td>\n",
       "      <td>7.000000</td>\n",
       "      <td>4.000000</td>\n",
       "    </tr>\n",
       "  </tbody>\n",
       "</table>\n",
       "</div>"
      ],
      "text/plain": [
       "              age         sex          cp    trestbps        chol         fbs  \\\n",
       "count  297.000000  297.000000  297.000000  297.000000  297.000000  297.000000   \n",
       "mean    54.542088    0.676768    3.158249  131.693603  247.350168    0.144781   \n",
       "std      9.049736    0.468500    0.964859   17.762806   51.997583    0.352474   \n",
       "min     29.000000    0.000000    1.000000   94.000000  126.000000    0.000000   \n",
       "25%     48.000000    0.000000    3.000000  120.000000  211.000000    0.000000   \n",
       "50%     56.000000    1.000000    3.000000  130.000000  243.000000    0.000000   \n",
       "75%     61.000000    1.000000    4.000000  140.000000  276.000000    0.000000   \n",
       "max     77.000000    1.000000    4.000000  200.000000  564.000000    1.000000   \n",
       "\n",
       "          restecg     thalach       exang     oldpeak       slope          ca  \\\n",
       "count  297.000000  297.000000  297.000000  297.000000  297.000000  297.000000   \n",
       "mean     0.996633  149.599327    0.326599    1.055556    1.602694    0.676768   \n",
       "std      0.994914   22.941562    0.469761    1.166123    0.618187    0.938965   \n",
       "min      0.000000   71.000000    0.000000    0.000000    1.000000    0.000000   \n",
       "25%      0.000000  133.000000    0.000000    0.000000    1.000000    0.000000   \n",
       "50%      1.000000  153.000000    0.000000    0.800000    2.000000    0.000000   \n",
       "75%      2.000000  166.000000    1.000000    1.600000    2.000000    1.000000   \n",
       "max      2.000000  202.000000    1.000000    6.200000    3.000000    3.000000   \n",
       "\n",
       "             thal   diagnosis  \n",
       "count  297.000000  297.000000  \n",
       "mean     4.730640    0.946128  \n",
       "std      1.938629    1.234551  \n",
       "min      3.000000    0.000000  \n",
       "25%      3.000000    0.000000  \n",
       "50%      3.000000    0.000000  \n",
       "75%      7.000000    2.000000  \n",
       "max      7.000000    4.000000  "
      ]
     },
     "execution_count": 23,
     "metadata": {},
     "output_type": "execute_result"
    }
   ],
   "source": [
    "# Array with multiclass data\n",
    "data.describe()"
   ]
  },
  {
   "cell_type": "code",
   "execution_count": 24,
   "metadata": {},
   "outputs": [
    {
     "data": {
      "text/plain": [
       "(array([160.,   0.,  54.,   0.,   0.,  35.,   0.,  35.,   0.,  13.]),\n",
       " array([0. , 0.4, 0.8, 1.2, 1.6, 2. , 2.4, 2.8, 3.2, 3.6, 4. ]),\n",
       " <BarContainer object of 10 artists>)"
      ]
     },
     "execution_count": 24,
     "metadata": {},
     "output_type": "execute_result"
    },
    {
     "data": {
      "image/png": "[encoded data removed]",
      "text/plain": [
       "<Figure size 432x288 with 1 Axes>"
      ]
     },
     "metadata": {
      "needs_background": "light"
     },
     "output_type": "display_data"
    }
   ],
   "source": [
    "data_n = data.values\n",
    "#print(data_n.shape)\n",
    "\n",
    "# Extract the features to array X\n",
    "X = data_n[:,:-1]\n",
    "\n",
    "# Extract the labels to array y\n",
    "y = data_n[:,-1]\n",
    "y = y.reshape(len(y), 1)\n",
    "\n",
    "#print(X.shape)\n",
    "#print(y.shape)\n",
    "\n",
    "# Plot the count of diseases\n",
    "plt.title(\"Count of diseased samples\")\n",
    "plt.xlabel(\"Disease\")\n",
    "plt.ylabel(\"Count\")\n",
    "plt.hist(y)"
   ]
  },
  {
   "cell_type": "code",
   "execution_count": 25,
   "metadata": {},
   "outputs": [
    {
     "data": {
      "text/plain": [
       "(array([160.,   0., 160.,   0.,   0., 160.,   0., 160.,   0., 160.]),\n",
       " array([0. , 0.4, 0.8, 1.2, 1.6, 2. , 2.4, 2.8, 3.2, 3.6, 4. ]),\n",
       " <BarContainer object of 10 artists>)"
      ]
     },
     "execution_count": 25,
     "metadata": {},
     "output_type": "execute_result"
    },
    {
     "data": {
      "image/png": "[encoded data removed]",
      "text/plain": [
       "<Figure size 432x288 with 1 Axes>"
      ]
     },
     "metadata": {
      "needs_background": "light"
     },
     "output_type": "display_data"
    }
   ],
   "source": [
    "# Import libraries to perform random oversampling\n",
    "import imblearn\n",
    "from imblearn.over_sampling import RandomOverSampler\n",
    "\n",
    "# Random oversampler\n",
    "ros = RandomOverSampler()\n",
    "\n",
    "X_ros, y_ros = ros.fit_sample(X, y)\n",
    "y_ros = y_ros.reshape(len(y_ros), 1)\n",
    "\n",
    "#print(X_ros.shape)\n",
    "#print(y_ros.shape)\n",
    "\n",
    "# Plot the count of diseases\n",
    "plt.title(\"Count of diseased samples (oversampled data)\")\n",
    "plt.xlabel(\"Disease\")\n",
    "plt.ylabel(\"Count\")\n",
    "plt.hist(y_ros)"
   ]
  },
  {
   "cell_type": "code",
   "execution_count": 26,
   "metadata": {},
   "outputs": [],
   "source": [
    "# Normalize the features\n",
    "X_norm, X_mean, X_std = featureNormalization(X)\n",
    "X_ros_norm, X_ros_mean, X_ros_std = featureNormalization(X_ros)\n",
    "#print(X_norm.shape)\n",
    "#print(X_ros_norm.shape)"
   ]
  },
  {
   "cell_type": "code",
   "execution_count": 27,
   "metadata": {},
   "outputs": [],
   "source": [
    "def trainMulticlassModel(X, y, alpha, iterat, Lambda):\n",
    "    \n",
    "    # Different classes\n",
    "    Classes = np.unique(y)\n",
    "    # Number of different classes\n",
    "    nClasses = len(Classes)\n",
    "    \n",
    "    print(\"Class val (class id):\")\n",
    "    \n",
    "    # Array to store all of the thetas computed for each class\n",
    "    # Each column is a vector with the thetas of the correspondant class\n",
    "    theta_all = np.zeros((X.shape[1], nClasses))\n",
    "    \n",
    "    # List to store the history of the cost of theta\n",
    "    J_history_all = []\n",
    "    \n",
    "    # Iterate through each class\n",
    "    for i in range(0, nClasses):\n",
    "        \n",
    "        print(Classes[i], \"(\", i, \"),\")\n",
    "        \n",
    "        # Make y_binary=1 for examples of the current class and y_binary=0 for examples of all other classes\n",
    "        y_binary = y.copy()\n",
    "        y_binary[y_binary != Classes[i]] = 0\n",
    "        y_binary[y_binary == Classes[i]] = 1\n",
    "        \n",
    "        # Train the classifier for the current class (X, y_binary)\n",
    "        initial_theta = np.zeros((X.shape[1],1))\n",
    "        theta, J_history = gradientDescent(X, y_binary, initial_theta, alpha, math.floor(iterat/nClasses), Lambda)\n",
    "        \n",
    "        # Store the thetas of this class in theta_all\n",
    "        theta_all[:,[i]] = theta\n",
    "        \n",
    "        # Store J_history in J_history_all\n",
    "        J_history_all.extend(J_history)\n",
    "        \n",
    "    return theta_all, J_history_all"
   ]
  },
  {
   "cell_type": "code",
   "execution_count": 28,
   "metadata": {},
   "outputs": [
    {
     "name": "stdout",
     "output_type": "stream",
     "text": [
      "Class val (class id):\n",
      "0.0 ( 0 ),\n",
      "1.0 ( 1 ),\n",
      "2.0 ( 2 ),\n",
      "3.0 ( 3 ),\n",
      "4.0 ( 4 ),\n",
      "Class val (class id):\n",
      "0.0 ( 0 ),\n",
      "1.0 ( 1 ),\n",
      "2.0 ( 2 ),\n",
      "3.0 ( 3 ),\n",
      "4.0 ( 4 ),\n"
     ]
    }
   ],
   "source": [
    "Lambda = 5\n",
    "alpha = 0.1\n",
    "\n",
    "# Number of iterations\n",
    "iterat = 1000\n",
    "\n",
    "# Compute the model parameters\n",
    "theta , J_history = trainMulticlassModel(X_norm, y, alpha, iterat, Lambda)\n",
    "theta_ros , J_history_ros = trainMulticlassModel(X_ros_norm, y_ros, alpha, iterat, Lambda)\n",
    "\n",
    "#print(theta.shape)\n",
    "# print(theta_ros.shape)"
   ]
  },
  {
   "cell_type": "code",
   "execution_count": 29,
   "metadata": {},
   "outputs": [
    {
     "data": {
      "text/plain": [
       "<matplotlib.legend.Legend at 0x7f217607f100>"
      ]
     },
     "execution_count": 29,
     "metadata": {},
     "output_type": "execute_result"
    },
    {
     "data": {
      "image/png": "[encoded data removed]",
      "text/plain": [
       "<Figure size 432x288 with 1 Axes>"
      ]
     },
     "metadata": {
      "needs_background": "light"
     },
     "output_type": "display_data"
    }
   ],
   "source": [
    "# Plot the evolution of the cost function to see if it converges\n",
    "plt.plot(J_history, label='Original data')\n",
    "plt.plot(J_history_ros, label='Oversampled data')\n",
    "plt.xlabel(\"Iteration\")\n",
    "plt.ylabel(\"$J(\\Theta)$\")\n",
    "plt.title(\"Cost function using Gradient Descent\")\n",
    "plt.legend()"
   ]
  },
  {
   "cell_type": "code",
   "execution_count": 30,
   "metadata": {},
   "outputs": [],
   "source": [
    "def classifierPredictMulticlass(X, theta):\n",
    "    \"\"\"\n",
    "    take in numpy array of X and theta, and predict the class\n",
    "    \"\"\"\n",
    "    prob = sigmoid(np.dot(X,theta))\n",
    "\n",
    "#     prob = np.dot(X,theta)\n",
    "    predClass = []\n",
    "    \n",
    "#     for i in prob:\n",
    "#         print(i)\n",
    "#         predClass.append(np.argmax(i))\n",
    "    \n",
    "    predClass = np.argmax(prob)\n",
    "    \n",
    "    return predClass"
   ]
  },
  {
   "cell_type": "code",
   "execution_count": 31,
   "metadata": {
    "scrolled": false
   },
   "outputs": [
    {
     "name": "stdout",
     "output_type": "stream",
     "text": [
      "Predicted class:  1\n"
     ]
    }
   ],
   "source": [
    "# Array with the input features\n",
    "X_test = np.array([ 63.0,1.0,4.0,130.0,254.0,0.0,2.0,147.0,0.0,1.4,2.0,1.0,7.0 ])\n",
    "X_test = X_test.reshape(1, len(X_test))\n",
    "\n",
    "#Normalize the values\n",
    "X_test = (X_test - X_mean)/X_std\n",
    "\n",
    "#Compute the prediction\n",
    "pred = classifierPredictMulticlass(X_test, theta)\n",
    "\n",
    "print(\"Predicted class: \", pred)"
   ]
  },
  {
   "cell_type": "markdown",
   "metadata": {},
   "source": [
    "## Testing the multiclass classifier\n",
    "In this section, we will perform some tests on the multiclass classifier.\n",
    "We predict the entire dataset examples to calculate the model accuracy."
   ]
  },
  {
   "cell_type": "code",
   "execution_count": 32,
   "metadata": {},
   "outputs": [
    {
     "name": "stdout",
     "output_type": "stream",
     "text": [
      "Accuracy (multiclass):  0.42875\n"
     ]
    },
    {
     "data": {
      "image/png": "[encoded data removed]",
      "text/plain": [
       "<Figure size 432x288 with 2 Axes>"
      ]
     },
     "metadata": {
      "needs_background": "light"
     },
     "output_type": "display_data"
    }
   ],
   "source": [
    "# y_pred will contain the predictions for every example in the dataset\n",
    "y_pred = np.zeros((y_ros.shape[0], y_ros.shape[1]))\n",
    "\n",
    "# For each example in the dataset, compute the prediction\n",
    "for i in range(len(y_ros)):\n",
    "    y_pred[i] = classifierPredictMulticlass(X_ros_norm[i], theta_ros)\n",
    "\n",
    "# Compute the confusion matrix\n",
    "cm = confusion_matrix(y_ros, y_pred)\n",
    "\n",
    "# Obtain the true and false values for each prediction\n",
    "t0 = cm[0][0]\n",
    "f0 = cm[0][1]+cm[0][2]+cm[0][3]+cm[0][4]\n",
    "t1 = cm[1][1]\n",
    "f1 = cm[1][0]+cm[1][2]+cm[1][3]+cm[1][4]\n",
    "t2 = cm[2][2]\n",
    "f2 = cm[2][0]+cm[2][1]+cm[2][3]+cm[2][4]\n",
    "t3 = cm[3][3]\n",
    "f3 = cm[3][0]+cm[3][1]+cm[3][2]+cm[3][4]\n",
    "t4 = cm[4][4]\n",
    "f4 = cm[4][0]+cm[4][1]+cm[4][2]+cm[4][3]\n",
    "\n",
    "correct_results_linear = t0 + t1 + t2 + t3 + t4\n",
    "incorrect_results_linear = f0 + f1 + f2 + f3 + f4\n",
    "\n",
    "cm = np.array([[t0, f0],[t1, f1],[t2, f2],[t3, f3],[t4, f4]])\n",
    "\n",
    "\n",
    "# Plot the confusion matrix in a graphical way\n",
    "group_names = [\"True 0\",\"False 0\",\"True 1\",\"False 1\",\"True 2\",\"False 2\",\"True 3\",\"False 3\",\"True 4\",\"False 4\"]\n",
    "group_counts = [\"{0:0.0f}\".format(value) for value in cm.flatten()]\n",
    "labels = [f\"{v1}\\n{v2}\" for v1,v2 in zip(group_names,group_counts)]\n",
    "labels = np.asarray(labels).reshape(5,2)\n",
    "sns.heatmap(cm, annot=labels, fmt=\"\")\n",
    "plt.title(\"Confusion Matrix for Multiclass Classifier\")\n",
    "\n",
    "# Compute the following parameters:\n",
    "accuracy = (t0 + t1 + t2 + t3 + t4) / (t0 + t1 + t2 + t3 + t4 + f0 + f1 + f2 + f3 + f4)\n",
    "\n",
    "print(\"Accuracy (multiclass): \", accuracy)\n"
   ]
  },
  {
   "cell_type": "code",
   "execution_count": 33,
   "metadata": {},
   "outputs": [
    {
     "data": {
      "text/plain": [
       "Text(0.5, 1.0, 'Number of correct and incorrect results for multiclass classifier')"
      ]
     },
     "execution_count": 33,
     "metadata": {},
     "output_type": "execute_result"
    },
    {
     "data": {
      "image/png": "[encoded data removed]",
      "text/plain": [
       "<Figure size 432x288 with 1 Axes>"
      ]
     },
     "metadata": {
      "needs_background": "light"
     },
     "output_type": "display_data"
    }
   ],
   "source": [
    "plt.bar(\"Correct results (\"+str(correct_results_linear)+\")\",correct_results_linear,0.5)\n",
    "plt.bar(\"Incorrect results (\"+str(incorrect_results_linear)+\")\",incorrect_results_linear, 0.5)\n",
    "plt.ylabel(\"Count\")\n",
    "plt.title(\"Number of correct and incorrect results for multiclass classifier\")"
   ]
  },
  {
   "cell_type": "code",
   "execution_count": null,
   "metadata": {},
   "outputs": [],
   "source": []
  }
 ],
 "metadata": {
  "kernelspec": {
   "display_name": "Python 3",
   "language": "python",
   "name": "python3"
  },
  "language_info": {
   "codemirror_mode": {
    "name": "ipython",
    "version": 3
   },
   "file_extension": ".py",
   "mimetype": "text/x-python",
   "name": "python",
   "nbconvert_exporter": "python",
   "pygments_lexer": "ipython3",
   "version": "3.8.3"
  }
 },
 "nbformat": 4,
 "nbformat_minor": 4
}
