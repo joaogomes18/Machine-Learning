{
 "cells": [
  {
   "cell_type": "code",
   "execution_count": 1,
   "metadata": {},
   "outputs": [],
   "source": [
    "#Import relevant libraries\n",
    "import numpy as np\n",
    "import pandas as pnd\n",
    "import matplotlib.pyplot as plt\n",
    "import seaborn as sns\n",
    "import random"
   ]
  },
  {
   "cell_type": "code",
   "execution_count": 2,
   "metadata": {},
   "outputs": [],
   "source": [
    "relevant_features = [\"age\", \"sex\", \"cp\", \"trestbps\", \"chol\", \"fbs\", \"restecg\", \"thalach\", \"exang\", \"oldpeak\", \"slope\", \"ca\", \"thal\", \"diagnosis\"]\n",
    "data = pnd.read_csv(\"processed.cleveland.csv\", names=relevant_features)"
   ]
  },
  {
   "cell_type": "code",
   "execution_count": 3,
   "metadata": {},
   "outputs": [],
   "source": [
    "data.drop(data[data[\"ca\"] == '?'].index, inplace=True)\n",
    "data.drop(data[data[\"thal\"] == '?'].index, inplace=True)\n",
    "data = data.astype('float64') "
   ]
  },
  {
   "cell_type": "code",
   "execution_count": 4,
   "metadata": {},
   "outputs": [
    {
     "data": {
      "text/html": [
       "<div>\n",
       "<style scoped>\n",
       "    .dataframe tbody tr th:only-of-type {\n",
       "        vertical-align: middle;\n",
       "    }\n",
       "\n",
       "    .dataframe tbody tr th {\n",
       "        vertical-align: top;\n",
       "    }\n",
       "\n",
       "    .dataframe thead th {\n",
       "        text-align: right;\n",
       "    }\n",
       "</style>\n",
       "<table border=\"1\" class=\"dataframe\">\n",
       "  <thead>\n",
       "    <tr style=\"text-align: right;\">\n",
       "      <th></th>\n",
       "      <th>age</th>\n",
       "      <th>sex</th>\n",
       "      <th>cp</th>\n",
       "      <th>trestbps</th>\n",
       "      <th>chol</th>\n",
       "      <th>fbs</th>\n",
       "      <th>restecg</th>\n",
       "      <th>thalach</th>\n",
       "      <th>exang</th>\n",
       "      <th>oldpeak</th>\n",
       "      <th>slope</th>\n",
       "      <th>ca</th>\n",
       "      <th>thal</th>\n",
       "      <th>diagnosis</th>\n",
       "    </tr>\n",
       "  </thead>\n",
       "  <tbody>\n",
       "    <tr>\n",
       "      <th>0</th>\n",
       "      <td>63.0</td>\n",
       "      <td>1.0</td>\n",
       "      <td>1.0</td>\n",
       "      <td>145.0</td>\n",
       "      <td>233.0</td>\n",
       "      <td>1.0</td>\n",
       "      <td>2.0</td>\n",
       "      <td>150.0</td>\n",
       "      <td>0.0</td>\n",
       "      <td>2.3</td>\n",
       "      <td>3.0</td>\n",
       "      <td>0.0</td>\n",
       "      <td>6.0</td>\n",
       "      <td>0.0</td>\n",
       "    </tr>\n",
       "    <tr>\n",
       "      <th>1</th>\n",
       "      <td>67.0</td>\n",
       "      <td>1.0</td>\n",
       "      <td>4.0</td>\n",
       "      <td>160.0</td>\n",
       "      <td>286.0</td>\n",
       "      <td>0.0</td>\n",
       "      <td>2.0</td>\n",
       "      <td>108.0</td>\n",
       "      <td>1.0</td>\n",
       "      <td>1.5</td>\n",
       "      <td>2.0</td>\n",
       "      <td>3.0</td>\n",
       "      <td>3.0</td>\n",
       "      <td>2.0</td>\n",
       "    </tr>\n",
       "    <tr>\n",
       "      <th>2</th>\n",
       "      <td>67.0</td>\n",
       "      <td>1.0</td>\n",
       "      <td>4.0</td>\n",
       "      <td>120.0</td>\n",
       "      <td>229.0</td>\n",
       "      <td>0.0</td>\n",
       "      <td>2.0</td>\n",
       "      <td>129.0</td>\n",
       "      <td>1.0</td>\n",
       "      <td>2.6</td>\n",
       "      <td>2.0</td>\n",
       "      <td>2.0</td>\n",
       "      <td>7.0</td>\n",
       "      <td>1.0</td>\n",
       "    </tr>\n",
       "    <tr>\n",
       "      <th>3</th>\n",
       "      <td>37.0</td>\n",
       "      <td>1.0</td>\n",
       "      <td>3.0</td>\n",
       "      <td>130.0</td>\n",
       "      <td>250.0</td>\n",
       "      <td>0.0</td>\n",
       "      <td>0.0</td>\n",
       "      <td>187.0</td>\n",
       "      <td>0.0</td>\n",
       "      <td>3.5</td>\n",
       "      <td>3.0</td>\n",
       "      <td>0.0</td>\n",
       "      <td>3.0</td>\n",
       "      <td>0.0</td>\n",
       "    </tr>\n",
       "    <tr>\n",
       "      <th>4</th>\n",
       "      <td>41.0</td>\n",
       "      <td>0.0</td>\n",
       "      <td>2.0</td>\n",
       "      <td>130.0</td>\n",
       "      <td>204.0</td>\n",
       "      <td>0.0</td>\n",
       "      <td>2.0</td>\n",
       "      <td>172.0</td>\n",
       "      <td>0.0</td>\n",
       "      <td>1.4</td>\n",
       "      <td>1.0</td>\n",
       "      <td>0.0</td>\n",
       "      <td>3.0</td>\n",
       "      <td>0.0</td>\n",
       "    </tr>\n",
       "  </tbody>\n",
       "</table>\n",
       "</div>"
      ],
      "text/plain": [
       "    age  sex   cp  trestbps   chol  fbs  restecg  thalach  exang  oldpeak  \\\n",
       "0  63.0  1.0  1.0     145.0  233.0  1.0      2.0    150.0    0.0      2.3   \n",
       "1  67.0  1.0  4.0     160.0  286.0  0.0      2.0    108.0    1.0      1.5   \n",
       "2  67.0  1.0  4.0     120.0  229.0  0.0      2.0    129.0    1.0      2.6   \n",
       "3  37.0  1.0  3.0     130.0  250.0  0.0      0.0    187.0    0.0      3.5   \n",
       "4  41.0  0.0  2.0     130.0  204.0  0.0      2.0    172.0    0.0      1.4   \n",
       "\n",
       "   slope   ca  thal  diagnosis  \n",
       "0    3.0  0.0   6.0        0.0  \n",
       "1    2.0  3.0   3.0        2.0  \n",
       "2    2.0  2.0   7.0        1.0  \n",
       "3    3.0  0.0   3.0        0.0  \n",
       "4    1.0  0.0   3.0        0.0  "
      ]
     },
     "execution_count": 4,
     "metadata": {},
     "output_type": "execute_result"
    }
   ],
   "source": [
    "data.head()"
   ]
  },
  {
   "cell_type": "code",
   "execution_count": 5,
   "metadata": {},
   "outputs": [
    {
     "data": {
      "text/html": [
       "<div>\n",
       "<style scoped>\n",
       "    .dataframe tbody tr th:only-of-type {\n",
       "        vertical-align: middle;\n",
       "    }\n",
       "\n",
       "    .dataframe tbody tr th {\n",
       "        vertical-align: top;\n",
       "    }\n",
       "\n",
       "    .dataframe thead th {\n",
       "        text-align: right;\n",
       "    }\n",
       "</style>\n",
       "<table border=\"1\" class=\"dataframe\">\n",
       "  <thead>\n",
       "    <tr style=\"text-align: right;\">\n",
       "      <th></th>\n",
       "      <th>age</th>\n",
       "      <th>sex</th>\n",
       "      <th>cp</th>\n",
       "      <th>trestbps</th>\n",
       "      <th>chol</th>\n",
       "      <th>fbs</th>\n",
       "      <th>restecg</th>\n",
       "      <th>thalach</th>\n",
       "      <th>exang</th>\n",
       "      <th>oldpeak</th>\n",
       "      <th>slope</th>\n",
       "      <th>ca</th>\n",
       "      <th>thal</th>\n",
       "      <th>diagnosis</th>\n",
       "    </tr>\n",
       "  </thead>\n",
       "  <tbody>\n",
       "    <tr>\n",
       "      <th>count</th>\n",
       "      <td>297.000000</td>\n",
       "      <td>297.000000</td>\n",
       "      <td>297.000000</td>\n",
       "      <td>297.000000</td>\n",
       "      <td>297.000000</td>\n",
       "      <td>297.000000</td>\n",
       "      <td>297.000000</td>\n",
       "      <td>297.000000</td>\n",
       "      <td>297.000000</td>\n",
       "      <td>297.000000</td>\n",
       "      <td>297.000000</td>\n",
       "      <td>297.000000</td>\n",
       "      <td>297.000000</td>\n",
       "      <td>297.000000</td>\n",
       "    </tr>\n",
       "    <tr>\n",
       "      <th>mean</th>\n",
       "      <td>54.542088</td>\n",
       "      <td>0.676768</td>\n",
       "      <td>3.158249</td>\n",
       "      <td>131.693603</td>\n",
       "      <td>247.350168</td>\n",
       "      <td>0.144781</td>\n",
       "      <td>0.996633</td>\n",
       "      <td>149.599327</td>\n",
       "      <td>0.326599</td>\n",
       "      <td>1.055556</td>\n",
       "      <td>1.602694</td>\n",
       "      <td>0.676768</td>\n",
       "      <td>4.730640</td>\n",
       "      <td>0.946128</td>\n",
       "    </tr>\n",
       "    <tr>\n",
       "      <th>std</th>\n",
       "      <td>9.049736</td>\n",
       "      <td>0.468500</td>\n",
       "      <td>0.964859</td>\n",
       "      <td>17.762806</td>\n",
       "      <td>51.997583</td>\n",
       "      <td>0.352474</td>\n",
       "      <td>0.994914</td>\n",
       "      <td>22.941562</td>\n",
       "      <td>0.469761</td>\n",
       "      <td>1.166123</td>\n",
       "      <td>0.618187</td>\n",
       "      <td>0.938965</td>\n",
       "      <td>1.938629</td>\n",
       "      <td>1.234551</td>\n",
       "    </tr>\n",
       "    <tr>\n",
       "      <th>min</th>\n",
       "      <td>29.000000</td>\n",
       "      <td>0.000000</td>\n",
       "      <td>1.000000</td>\n",
       "      <td>94.000000</td>\n",
       "      <td>126.000000</td>\n",
       "      <td>0.000000</td>\n",
       "      <td>0.000000</td>\n",
       "      <td>71.000000</td>\n",
       "      <td>0.000000</td>\n",
       "      <td>0.000000</td>\n",
       "      <td>1.000000</td>\n",
       "      <td>0.000000</td>\n",
       "      <td>3.000000</td>\n",
       "      <td>0.000000</td>\n",
       "    </tr>\n",
       "    <tr>\n",
       "      <th>25%</th>\n",
       "      <td>48.000000</td>\n",
       "      <td>0.000000</td>\n",
       "      <td>3.000000</td>\n",
       "      <td>120.000000</td>\n",
       "      <td>211.000000</td>\n",
       "      <td>0.000000</td>\n",
       "      <td>0.000000</td>\n",
       "      <td>133.000000</td>\n",
       "      <td>0.000000</td>\n",
       "      <td>0.000000</td>\n",
       "      <td>1.000000</td>\n",
       "      <td>0.000000</td>\n",
       "      <td>3.000000</td>\n",
       "      <td>0.000000</td>\n",
       "    </tr>\n",
       "    <tr>\n",
       "      <th>50%</th>\n",
       "      <td>56.000000</td>\n",
       "      <td>1.000000</td>\n",
       "      <td>3.000000</td>\n",
       "      <td>130.000000</td>\n",
       "      <td>243.000000</td>\n",
       "      <td>0.000000</td>\n",
       "      <td>1.000000</td>\n",
       "      <td>153.000000</td>\n",
       "      <td>0.000000</td>\n",
       "      <td>0.800000</td>\n",
       "      <td>2.000000</td>\n",
       "      <td>0.000000</td>\n",
       "      <td>3.000000</td>\n",
       "      <td>0.000000</td>\n",
       "    </tr>\n",
       "    <tr>\n",
       "      <th>75%</th>\n",
       "      <td>61.000000</td>\n",
       "      <td>1.000000</td>\n",
       "      <td>4.000000</td>\n",
       "      <td>140.000000</td>\n",
       "      <td>276.000000</td>\n",
       "      <td>0.000000</td>\n",
       "      <td>2.000000</td>\n",
       "      <td>166.000000</td>\n",
       "      <td>1.000000</td>\n",
       "      <td>1.600000</td>\n",
       "      <td>2.000000</td>\n",
       "      <td>1.000000</td>\n",
       "      <td>7.000000</td>\n",
       "      <td>2.000000</td>\n",
       "    </tr>\n",
       "    <tr>\n",
       "      <th>max</th>\n",
       "      <td>77.000000</td>\n",
       "      <td>1.000000</td>\n",
       "      <td>4.000000</td>\n",
       "      <td>200.000000</td>\n",
       "      <td>564.000000</td>\n",
       "      <td>1.000000</td>\n",
       "      <td>2.000000</td>\n",
       "      <td>202.000000</td>\n",
       "      <td>1.000000</td>\n",
       "      <td>6.200000</td>\n",
       "      <td>3.000000</td>\n",
       "      <td>3.000000</td>\n",
       "      <td>7.000000</td>\n",
       "      <td>4.000000</td>\n",
       "    </tr>\n",
       "  </tbody>\n",
       "</table>\n",
       "</div>"
      ],
      "text/plain": [
       "              age         sex          cp    trestbps        chol         fbs  \\\n",
       "count  297.000000  297.000000  297.000000  297.000000  297.000000  297.000000   \n",
       "mean    54.542088    0.676768    3.158249  131.693603  247.350168    0.144781   \n",
       "std      9.049736    0.468500    0.964859   17.762806   51.997583    0.352474   \n",
       "min     29.000000    0.000000    1.000000   94.000000  126.000000    0.000000   \n",
       "25%     48.000000    0.000000    3.000000  120.000000  211.000000    0.000000   \n",
       "50%     56.000000    1.000000    3.000000  130.000000  243.000000    0.000000   \n",
       "75%     61.000000    1.000000    4.000000  140.000000  276.000000    0.000000   \n",
       "max     77.000000    1.000000    4.000000  200.000000  564.000000    1.000000   \n",
       "\n",
       "          restecg     thalach       exang     oldpeak       slope          ca  \\\n",
       "count  297.000000  297.000000  297.000000  297.000000  297.000000  297.000000   \n",
       "mean     0.996633  149.599327    0.326599    1.055556    1.602694    0.676768   \n",
       "std      0.994914   22.941562    0.469761    1.166123    0.618187    0.938965   \n",
       "min      0.000000   71.000000    0.000000    0.000000    1.000000    0.000000   \n",
       "25%      0.000000  133.000000    0.000000    0.000000    1.000000    0.000000   \n",
       "50%      1.000000  153.000000    0.000000    0.800000    2.000000    0.000000   \n",
       "75%      2.000000  166.000000    1.000000    1.600000    2.000000    1.000000   \n",
       "max      2.000000  202.000000    1.000000    6.200000    3.000000    3.000000   \n",
       "\n",
       "             thal   diagnosis  \n",
       "count  297.000000  297.000000  \n",
       "mean     4.730640    0.946128  \n",
       "std      1.938629    1.234551  \n",
       "min      3.000000    0.000000  \n",
       "25%      3.000000    0.000000  \n",
       "50%      3.000000    0.000000  \n",
       "75%      7.000000    2.000000  \n",
       "max      7.000000    4.000000  "
      ]
     },
     "execution_count": 5,
     "metadata": {},
     "output_type": "execute_result"
    }
   ],
   "source": [
    "data.describe()"
   ]
  },
  {
   "cell_type": "code",
   "execution_count": 6,
   "metadata": {},
   "outputs": [
    {
     "data": {
      "text/html": [
       "<div>\n",
       "<style scoped>\n",
       "    .dataframe tbody tr th:only-of-type {\n",
       "        vertical-align: middle;\n",
       "    }\n",
       "\n",
       "    .dataframe tbody tr th {\n",
       "        vertical-align: top;\n",
       "    }\n",
       "\n",
       "    .dataframe thead th {\n",
       "        text-align: right;\n",
       "    }\n",
       "</style>\n",
       "<table border=\"1\" class=\"dataframe\">\n",
       "  <thead>\n",
       "    <tr style=\"text-align: right;\">\n",
       "      <th></th>\n",
       "      <th>age</th>\n",
       "      <th>sex</th>\n",
       "      <th>cp</th>\n",
       "      <th>trestbps</th>\n",
       "      <th>chol</th>\n",
       "      <th>fbs</th>\n",
       "      <th>restecg</th>\n",
       "      <th>thalach</th>\n",
       "      <th>exang</th>\n",
       "      <th>oldpeak</th>\n",
       "      <th>slope</th>\n",
       "      <th>ca</th>\n",
       "      <th>thal</th>\n",
       "      <th>diagnosis</th>\n",
       "    </tr>\n",
       "  </thead>\n",
       "  <tbody>\n",
       "    <tr>\n",
       "      <th>count</th>\n",
       "      <td>297.000000</td>\n",
       "      <td>297.000000</td>\n",
       "      <td>297.000000</td>\n",
       "      <td>297.000000</td>\n",
       "      <td>297.000000</td>\n",
       "      <td>297.000000</td>\n",
       "      <td>297.000000</td>\n",
       "      <td>297.000000</td>\n",
       "      <td>297.000000</td>\n",
       "      <td>297.000000</td>\n",
       "      <td>297.000000</td>\n",
       "      <td>297.000000</td>\n",
       "      <td>297.000000</td>\n",
       "      <td>297.000000</td>\n",
       "    </tr>\n",
       "    <tr>\n",
       "      <th>mean</th>\n",
       "      <td>54.542088</td>\n",
       "      <td>0.676768</td>\n",
       "      <td>3.158249</td>\n",
       "      <td>131.693603</td>\n",
       "      <td>247.350168</td>\n",
       "      <td>0.144781</td>\n",
       "      <td>0.996633</td>\n",
       "      <td>149.599327</td>\n",
       "      <td>0.326599</td>\n",
       "      <td>1.055556</td>\n",
       "      <td>1.602694</td>\n",
       "      <td>0.676768</td>\n",
       "      <td>4.730640</td>\n",
       "      <td>0.461279</td>\n",
       "    </tr>\n",
       "    <tr>\n",
       "      <th>std</th>\n",
       "      <td>9.049736</td>\n",
       "      <td>0.468500</td>\n",
       "      <td>0.964859</td>\n",
       "      <td>17.762806</td>\n",
       "      <td>51.997583</td>\n",
       "      <td>0.352474</td>\n",
       "      <td>0.994914</td>\n",
       "      <td>22.941562</td>\n",
       "      <td>0.469761</td>\n",
       "      <td>1.166123</td>\n",
       "      <td>0.618187</td>\n",
       "      <td>0.938965</td>\n",
       "      <td>1.938629</td>\n",
       "      <td>0.499340</td>\n",
       "    </tr>\n",
       "    <tr>\n",
       "      <th>min</th>\n",
       "      <td>29.000000</td>\n",
       "      <td>0.000000</td>\n",
       "      <td>1.000000</td>\n",
       "      <td>94.000000</td>\n",
       "      <td>126.000000</td>\n",
       "      <td>0.000000</td>\n",
       "      <td>0.000000</td>\n",
       "      <td>71.000000</td>\n",
       "      <td>0.000000</td>\n",
       "      <td>0.000000</td>\n",
       "      <td>1.000000</td>\n",
       "      <td>0.000000</td>\n",
       "      <td>3.000000</td>\n",
       "      <td>0.000000</td>\n",
       "    </tr>\n",
       "    <tr>\n",
       "      <th>25%</th>\n",
       "      <td>48.000000</td>\n",
       "      <td>0.000000</td>\n",
       "      <td>3.000000</td>\n",
       "      <td>120.000000</td>\n",
       "      <td>211.000000</td>\n",
       "      <td>0.000000</td>\n",
       "      <td>0.000000</td>\n",
       "      <td>133.000000</td>\n",
       "      <td>0.000000</td>\n",
       "      <td>0.000000</td>\n",
       "      <td>1.000000</td>\n",
       "      <td>0.000000</td>\n",
       "      <td>3.000000</td>\n",
       "      <td>0.000000</td>\n",
       "    </tr>\n",
       "    <tr>\n",
       "      <th>50%</th>\n",
       "      <td>56.000000</td>\n",
       "      <td>1.000000</td>\n",
       "      <td>3.000000</td>\n",
       "      <td>130.000000</td>\n",
       "      <td>243.000000</td>\n",
       "      <td>0.000000</td>\n",
       "      <td>1.000000</td>\n",
       "      <td>153.000000</td>\n",
       "      <td>0.000000</td>\n",
       "      <td>0.800000</td>\n",
       "      <td>2.000000</td>\n",
       "      <td>0.000000</td>\n",
       "      <td>3.000000</td>\n",
       "      <td>0.000000</td>\n",
       "    </tr>\n",
       "    <tr>\n",
       "      <th>75%</th>\n",
       "      <td>61.000000</td>\n",
       "      <td>1.000000</td>\n",
       "      <td>4.000000</td>\n",
       "      <td>140.000000</td>\n",
       "      <td>276.000000</td>\n",
       "      <td>0.000000</td>\n",
       "      <td>2.000000</td>\n",
       "      <td>166.000000</td>\n",
       "      <td>1.000000</td>\n",
       "      <td>1.600000</td>\n",
       "      <td>2.000000</td>\n",
       "      <td>1.000000</td>\n",
       "      <td>7.000000</td>\n",
       "      <td>1.000000</td>\n",
       "    </tr>\n",
       "    <tr>\n",
       "      <th>max</th>\n",
       "      <td>77.000000</td>\n",
       "      <td>1.000000</td>\n",
       "      <td>4.000000</td>\n",
       "      <td>200.000000</td>\n",
       "      <td>564.000000</td>\n",
       "      <td>1.000000</td>\n",
       "      <td>2.000000</td>\n",
       "      <td>202.000000</td>\n",
       "      <td>1.000000</td>\n",
       "      <td>6.200000</td>\n",
       "      <td>3.000000</td>\n",
       "      <td>3.000000</td>\n",
       "      <td>7.000000</td>\n",
       "      <td>1.000000</td>\n",
       "    </tr>\n",
       "  </tbody>\n",
       "</table>\n",
       "</div>"
      ],
      "text/plain": [
       "              age         sex          cp    trestbps        chol         fbs  \\\n",
       "count  297.000000  297.000000  297.000000  297.000000  297.000000  297.000000   \n",
       "mean    54.542088    0.676768    3.158249  131.693603  247.350168    0.144781   \n",
       "std      9.049736    0.468500    0.964859   17.762806   51.997583    0.352474   \n",
       "min     29.000000    0.000000    1.000000   94.000000  126.000000    0.000000   \n",
       "25%     48.000000    0.000000    3.000000  120.000000  211.000000    0.000000   \n",
       "50%     56.000000    1.000000    3.000000  130.000000  243.000000    0.000000   \n",
       "75%     61.000000    1.000000    4.000000  140.000000  276.000000    0.000000   \n",
       "max     77.000000    1.000000    4.000000  200.000000  564.000000    1.000000   \n",
       "\n",
       "          restecg     thalach       exang     oldpeak       slope          ca  \\\n",
       "count  297.000000  297.000000  297.000000  297.000000  297.000000  297.000000   \n",
       "mean     0.996633  149.599327    0.326599    1.055556    1.602694    0.676768   \n",
       "std      0.994914   22.941562    0.469761    1.166123    0.618187    0.938965   \n",
       "min      0.000000   71.000000    0.000000    0.000000    1.000000    0.000000   \n",
       "25%      0.000000  133.000000    0.000000    0.000000    1.000000    0.000000   \n",
       "50%      1.000000  153.000000    0.000000    0.800000    2.000000    0.000000   \n",
       "75%      2.000000  166.000000    1.000000    1.600000    2.000000    1.000000   \n",
       "max      2.000000  202.000000    1.000000    6.200000    3.000000    3.000000   \n",
       "\n",
       "             thal   diagnosis  \n",
       "count  297.000000  297.000000  \n",
       "mean     4.730640    0.461279  \n",
       "std      1.938629    0.499340  \n",
       "min      3.000000    0.000000  \n",
       "25%      3.000000    0.000000  \n",
       "50%      3.000000    0.000000  \n",
       "75%      7.000000    1.000000  \n",
       "max      7.000000    1.000000  "
      ]
     },
     "execution_count": 6,
     "metadata": {},
     "output_type": "execute_result"
    }
   ],
   "source": [
    "#No ressample\n",
    "data_binary = data.copy()\n",
    "data_binary[\"diagnosis\"] = data_binary.diagnosis.map({0: 0, 1: 1, 2: 1, 3: 1, 4: 1})\n",
    "data_binary.describe()"
   ]
  },
  {
   "cell_type": "code",
   "execution_count": 7,
   "metadata": {},
   "outputs": [],
   "source": [
    "# sns.set(style='whitegrid', context='notebook')\n",
    "# sns.pairplot(data_binary[[\"age\", \"sex\", \"cp\", \"trestbps\", \"chol\", \"fbs\", \"restecg\", \"thalach\", \"exang\", \"oldpeak\", \"slope\", \"ca\", \"thal\", \"diagnosis\"]], height=2)\n",
    "# plt.title(\"Diagnosis Binary\")\n",
    "# #plt.show()\n",
    "# plt.savefig(\"diagnosisBinary_mult.png\")"
   ]
  },
  {
   "cell_type": "code",
   "execution_count": 8,
   "metadata": {},
   "outputs": [],
   "source": [
    "# cols = [\"age\", \"sex\", \"cp\", \"trestbps\", \"chol\", \"fbs\", \"restecg\", \"thalach\", \"exang\", \"oldpeak\", \"slope\", \"ca\", \"thal\"]\n",
    "# cm = np.corrcoef(data_binary[[\"age\", \"sex\", \"cp\", \"trestbps\", \"chol\", \"fbs\", \"restecg\", \"thalach\", \"exang\", \"oldpeak\", \"slope\", \"ca\", \"thal\",\"diagnosis\"]].values.T)\n",
    "# sns.set(font_scale=1)\n",
    "# hm = sns.heatmap(cm, cbar=True, annot=True, square=True, fmt='.2f', annot_kws={'size':8},\n",
    "#                  yticklabels=cols, xticklabels=cols)\n",
    "# plt.title(\"Diagnosis Binary\")\n",
    "# #plt.show()\n",
    "# plt.savefig(\"diagnosisBinary_corr.png\")"
   ]
  },
  {
   "cell_type": "code",
   "execution_count": 9,
   "metadata": {},
   "outputs": [],
   "source": [
    "data_binary_n = data_binary.values\n",
    "#print(data_binary_n.shape)\n",
    "\n",
    "X_binary = data_binary_n[:,:-1]\n",
    "y_binary = data_binary_n[:,-1]"
   ]
  },
  {
   "cell_type": "code",
   "execution_count": 10,
   "metadata": {},
   "outputs": [],
   "source": [
    "def featureNormalization(X):\n",
    "    \"\"\"\n",
    "    Take in numpy array of X values and return normalize X values,\n",
    "    the mean and standard deviation of each feature\n",
    "    \"\"\"\n",
    "    mean=np.mean(X,axis=0)\n",
    "    std=np.std(X,axis=0)\n",
    "    \n",
    "    X_norm = (X-mean)/std\n",
    "    \n",
    "    return X_norm , mean , std"
   ]
  },
  {
   "cell_type": "code",
   "execution_count": 11,
   "metadata": {},
   "outputs": [
    {
     "name": "stdout",
     "output_type": "stream",
     "text": [
      "(60,)\n"
     ]
    }
   ],
   "source": [
    "X_binary, mean_X, std_X = featureNormalization(X_binary)\n",
    "\n",
    "from sklearn.model_selection import train_test_split\n",
    "X_binary_train, X_binary_val, y_binary_train, y_binary_val = train_test_split(X_binary, y_binary, test_size = 0.2, random_state = 0)\n",
    "\n",
    "#print(X_binary.shape) (297,13)\n",
    "# print(y_binary_val.shape)\n",
    "\n",
    "y_binary_train = y_binary_train.reshape(X_binary_train.shape[0],1)\n",
    "y_binary_val = y_binary_val.reshape(X_binary_val.shape[0],1)\n",
    "\n",
    "#print(y_binary_train.shape) (238, 1)\n",
    "#print(y_binary_val.shape) (59, 1)"
   ]
  },
  {
   "cell_type": "code",
   "execution_count": 12,
   "metadata": {},
   "outputs": [
    {
     "name": "stdout",
     "output_type": "stream",
     "text": [
      "Linear kernel classification:  0.8607594936708861\n",
      "Gaussian kernel classification:  0.9113924050632911\n"
     ]
    }
   ],
   "source": [
    "from sklearn.svm import SVC\n",
    "\n",
    "classifier = SVC(kernel=\"linear\")\n",
    "classifier.fit(X_binary_train,np.ravel(y_binary_train))\n",
    "print(\"Linear kernel classification: \", classifier.score(X_binary_train,y_binary_train)) #0.8607594936708861\n",
    "\n",
    "classifier = SVC(kernel=\"rbf\")\n",
    "classifier.fit(X_binary_train,np.ravel(y_binary_train))\n",
    "print(\"Gaussian kernel classification: \", classifier.score(X_binary_train,y_binary_train)) #0.9113924050632911"
   ]
  },
  {
   "cell_type": "code",
   "execution_count": 13,
   "metadata": {},
   "outputs": [],
   "source": [
    "def definingParamsLinear(X, y, Xval, yval,vals):\n",
    "    classifier = SVC(kernel=\"linear\")\n",
    "    classifier.fit(X,y)\n",
    "    prediction = classifier.predict(Xval)\n",
    "    acc = classifier.score(Xval,yval)\n",
    "    best_C=1.0\n",
    "    best_gamma='scale'\n",
    "    for i in vals:\n",
    "        C= i\n",
    "        for j in vals:\n",
    "            gamma = 1/j\n",
    "            classifier = SVC(C=C,gamma=gamma, kernel=\"linear\")\n",
    "            classifier.fit(X,y)\n",
    "            prediction = classifier.predict(Xval)\n",
    "            score = classifier.score(Xval,yval)\n",
    "            if score>acc:\n",
    "                acc =score\n",
    "                best_C =C\n",
    "                best_gamma=gamma\n",
    "    return best_C, best_gamma\n",
    "\n",
    "def definingParamsGaussian(X, y, Xval, yval,vals):\n",
    "    classifier = SVC(kernel=\"rbf\")\n",
    "    classifier.fit(X,y)\n",
    "    prediction = classifier.predict(Xval)\n",
    "    acc = classifier.score(Xval,yval)\n",
    "    best_C=1.0\n",
    "    best_gamma='scale'\n",
    "    for i in vals:\n",
    "        C= i\n",
    "        for j in vals:\n",
    "            gamma = 1/j\n",
    "            classifier = SVC(C=C,gamma=gamma, kernel=\"rbf\")\n",
    "            classifier.fit(X,y)\n",
    "            prediction = classifier.predict(Xval)\n",
    "            score = classifier.score(Xval,yval)\n",
    "            if score>acc:\n",
    "                acc =score\n",
    "                best_C =C\n",
    "                best_gamma=gamma\n",
    "    return best_C, best_gamma"
   ]
  },
  {
   "cell_type": "code",
   "execution_count": 14,
   "metadata": {
    "scrolled": true
   },
   "outputs": [
    {
     "name": "stdout",
     "output_type": "stream",
     "text": [
      "Best C for linear:  1.0\n",
      "Best gamma for linear:  scale\n",
      "Linear kernel classification for the training data:  0.8607594936708861\n",
      "Best C for gaussian:  1.0\n",
      "Best gamma for gaussian:  scale\n",
      "Gaussian kernel classifier for the training data:  0.9113924050632911\n"
     ]
    }
   ],
   "source": [
    "vals = [0.01,0.03,0.3,1,3,10,30]\n",
    "best_C_linear, best_gamma_linear = definingParamsLinear(X_binary_train, y_binary_train.ravel(), X_binary_val, y_binary_val.ravel(),vals)\n",
    "best_C_gaussian, best_gamma_gaussian = definingParamsGaussian(X_binary_train, y_binary_train.ravel(), X_binary_val, y_binary_val.ravel(),vals)\n",
    "print(\"Best C for linear: \", best_C_linear) #0.01\n",
    "print(\"Best gamma for linear: \", best_gamma_linear) #100.0\n",
    "classifier = SVC(C=best_C_linear, gamma=best_gamma_linear, kernel=\"linear\")\n",
    "classifier.fit(X_binary_train,np.ravel(y_binary_train))\n",
    "print(\"Linear kernel classification for the training data: \", classifier.score(X_binary_train,y_binary_train)) #0.8565400843881856\n",
    "\n",
    "print(\"Best C for gaussian: \", best_C_gaussian) #0.3\n",
    "print(\"Best gamma for gaussian: \", best_gamma_gaussian) #0.1\n",
    "classifier = SVC(C=best_C_gaussian, gamma=best_gamma_gaussian, kernel=\"rbf\")\n",
    "classifier.fit(X_binary_train,np.ravel(y_binary_train))\n",
    "print(\"Gaussian kernel classifier for the training data: \", classifier.score(X_binary_train,y_binary_train)) #0.890295358649789\n"
   ]
  },
  {
   "cell_type": "code",
   "execution_count": 15,
   "metadata": {},
   "outputs": [
    {
     "name": "stdout",
     "output_type": "stream",
     "text": [
      "Accuracy linear:  0.8333333333333334\n",
      "Recall linear:  0.7333333333333333\n",
      "Specify linear:  0.9333333333333333\n",
      "Precision linear:  0.9166666666666666\n",
      "F1 linear:  0.8148148148148148\n"
     ]
    },
    {
     "data": {
      "image/png": "[encoded data removed]",
      "text/plain": [
       "<Figure size 432x288 with 2 Axes>"
      ]
     },
     "metadata": {
      "needs_background": "light"
     },
     "output_type": "display_data"
    }
   ],
   "source": [
    "from sklearn.metrics import confusion_matrix\n",
    "classifier = SVC(C=best_C_linear,gamma=best_gamma_linear, kernel=\"linear\")\n",
    "classifier.fit(X_binary_train,np.ravel(y_binary_train))\n",
    "prediction = classifier.predict(X_binary_val)\n",
    "cm_test_linear = confusion_matrix(prediction, y_binary_val)\n",
    "\n",
    "group_names = [\"True 0\",\"False 0\",\"False 1\",\"True 1\"]\n",
    "group_counts = [\"{0:0.0f}\".format(value) for value in cm_test_linear.flatten()]\n",
    "labels = [f\"{v1}\\n{v2}\" for v1,v2 in zip(group_names,group_counts)]\n",
    "labels = np.asarray(labels).reshape(2,2)\n",
    "sns.heatmap(cm_test_linear, annot=labels, fmt=\"\")\n",
    "\n",
    "tn_linear = cm_test_linear[0][0]\n",
    "fp_linear = cm_test_linear[1][0]\n",
    "fn_linear = cm_test_linear[0][1]\n",
    "tp_linear = cm_test_linear[1][1]\n",
    "\n",
    "accuracy_linear = (tp_linear + tn_linear) / (tp_linear + tn_linear + fp_linear + fn_linear)\n",
    "recall_linear = (tp_linear) / (tp_linear + fn_linear)\n",
    "specifity_linear = (tn_linear) / (tn_linear + fp_linear)\n",
    "precision_linear = (tp_linear) / (tp_linear + fp_linear)\n",
    "F1_linear = 2*(recall_linear * precision_linear)/(recall_linear+precision_linear)\n",
    "\n",
    "print(\"Accuracy linear: \", accuracy_linear) #0.8333333333333334\n",
    "print(\"Recall linear: \", recall_linear) #0.7333333333333333\n",
    "print(\"Specify linear: \", specifity_linear) #0.9333333333333333\n",
    "print(\"Precision linear: \", precision_linear) #0.9166666666666666\n",
    "print(\"F1 linear: \", F1_linear) #0.8148148148148148"
   ]
  },
  {
   "cell_type": "code",
   "execution_count": 16,
   "metadata": {},
   "outputs": [
    {
     "name": "stdout",
     "output_type": "stream",
     "text": [
      "Accuracy gaussian:  0.8333333333333334\n",
      "Recall gaussian:  0.7333333333333333\n",
      "Specify gaussian:  0.9333333333333333\n",
      "Precision gaussian:  0.9166666666666666\n",
      "F1 gaussian:  0.8148148148148148\n"
     ]
    },
    {
     "data": {
      "image/png": "[encoded data removed]",
      "text/plain": [
       "<Figure size 432x288 with 2 Axes>"
      ]
     },
     "metadata": {
      "needs_background": "light"
     },
     "output_type": "display_data"
    }
   ],
   "source": [
    "classifier = SVC(C=best_C_gaussian,gamma=best_gamma_gaussian, kernel=\"rbf\")\n",
    "classifier.fit(X_binary_train,np.ravel(y_binary_train))\n",
    "prediction = classifier.predict(X_binary_val)\n",
    "cm_test_gaussian = confusion_matrix(prediction, y_binary_val)\n",
    "\n",
    "group_names = [\"True 0\",\"False 0\",\"False 1\",\"True 1\"]\n",
    "group_counts = [\"{0:0.0f}\".format(value) for value in cm_test_gaussian.flatten()]\n",
    "labels = [f\"{v1}\\n{v2}\" for v1,v2 in zip(group_names,group_counts)]\n",
    "labels = np.asarray(labels).reshape(2,2)\n",
    "sns.heatmap(cm_test_gaussian, annot=labels, fmt=\"\")\n",
    "\n",
    "tn_gaussian = cm_test_gaussian[0][0]\n",
    "fp_gaussian = cm_test_gaussian[1][0]\n",
    "fn_gaussian = cm_test_gaussian[0][1]\n",
    "tp_gaussian = cm_test_gaussian[1][1]\n",
    "\n",
    "accuracy_gaussian = (tp_gaussian + tn_gaussian) / (tp_gaussian + tn_gaussian + fp_gaussian + fn_gaussian)\n",
    "recall_gaussian = (tp_gaussian) / (tp_gaussian + fn_gaussian)\n",
    "specifity_gaussian = (tn_gaussian) / (tn_gaussian + fp_gaussian)\n",
    "precision_gaussian = (tp_gaussian) / (tp_gaussian + fp_gaussian)\n",
    "F1_gaussian = 2*(recall_gaussian * precision_gaussian)/(recall_gaussian+precision_gaussian)\n",
    "\n",
    "print(\"Accuracy gaussian: \", accuracy_gaussian) #0.8333333333333334\n",
    "print(\"Recall gaussian: \", recall_gaussian) #0.7333333333333333\n",
    "print(\"Specify gaussian: \", specifity_gaussian) #0.9333333333333333\n",
    "print(\"Precision gaussian: \", precision_gaussian) #0.9166666666666666\n",
    "print(\"F1 gaussian: \", F1_gaussian) #0.8148148148148148"
   ]
  },
  {
   "cell_type": "code",
   "execution_count": 17,
   "metadata": {},
   "outputs": [
    {
     "data": {
      "text/plain": [
       "(array([160.,   0.,   0.,   0.,   0.,   0.,   0.,   0.,   0., 160.]),\n",
       " array([0. , 0.1, 0.2, 0.3, 0.4, 0.5, 0.6, 0.7, 0.8, 0.9, 1. ]),\n",
       " <a list of 10 Patch objects>)"
      ]
     },
     "execution_count": 17,
     "metadata": {},
     "output_type": "execute_result"
    },
    {
     "data": {
      "image/png": "[encoded data removed]",
      "text/plain": [
       "<Figure size 432x288 with 1 Axes>"
      ]
     },
     "metadata": {
      "needs_background": "light"
     },
     "output_type": "display_data"
    }
   ],
   "source": [
    "data_n = data_binary.values\n",
    "\n",
    "X = data_n[:,:-1]\n",
    "y = data_n[:,-1]\n",
    "\n",
    "import imblearn\n",
    "\n",
    "from imblearn.over_sampling import RandomOverSampler\n",
    "\n",
    "ros = RandomOverSampler()\n",
    "X_ros, y_ros = ros.fit_sample(X, y)\n",
    "\n",
    "plt.title(\"Count of diseased samples\")\n",
    "plt.xlabel(\"Disease\")\n",
    "plt.ylabel(\"Count\")\n",
    "plt.hist(y_ros)"
   ]
  },
  {
   "cell_type": "code",
   "execution_count": 18,
   "metadata": {},
   "outputs": [],
   "source": [
    "X_ros, mean_X, std_X = featureNormalization(X_ros)\n",
    "\n",
    "from sklearn.model_selection import train_test_split\n",
    "X_train, X_val, y_train, y_val = train_test_split(X_ros, y_ros, test_size = 0.2, random_state = 0)\n",
    "\n",
    "y_train = y_train.reshape(y_train.shape[0],1)\n",
    "y_val = y_val.reshape(y_val.shape[0],1)"
   ]
  },
  {
   "cell_type": "code",
   "execution_count": 19,
   "metadata": {},
   "outputs": [
    {
     "name": "stdout",
     "output_type": "stream",
     "text": [
      "Linear kernel classification:  0.85546875\n",
      "Gaussian kernel classification:  0.91015625\n"
     ]
    }
   ],
   "source": [
    "from sklearn.svm import SVC\n",
    "\n",
    "classifier = SVC(kernel=\"linear\")\n",
    "classifier.fit(X_train,np.ravel(y_train))\n",
    "print(\"Linear kernel classification: \", classifier.score(X_train,y_train)) #0.875\n",
    "\n",
    "classifier = SVC(kernel=\"rbf\")\n",
    "classifier.fit(X_train,np.ravel(y_train))\n",
    "print(\"Gaussian kernel classification: \", classifier.score(X_train,y_train)) #0.91796875"
   ]
  },
  {
   "cell_type": "code",
   "execution_count": 20,
   "metadata": {},
   "outputs": [
    {
     "name": "stdout",
     "output_type": "stream",
     "text": [
      "Best C for linear:  1.0\n",
      "Best gamma for linear:  scale\n",
      "Linear kernel classification for the training data:  0.85546875\n",
      "Best C for gaussian:  3\n",
      "Best gamma for gaussian:  0.1\n",
      "Gaussian kernel classifier for the training data:  0.96875\n"
     ]
    }
   ],
   "source": [
    "vals = [0.01,0.03,0.3,1,3,10,30]\n",
    "best_C_linear, best_gamma_linear = definingParamsLinear(X_train, y_train.ravel(), X_val, y_val.ravel(),vals)\n",
    "best_C_gaussian, best_gamma_gaussian = definingParamsGaussian(X_train, y_train.ravel(), X_val, y_val.ravel(),vals)\n",
    "print(\"Best C for linear: \", best_C_linear) #0.01\n",
    "print(\"Best gamma for linear: \", best_gamma_linear) #100.0\n",
    "classifier = SVC(C=best_C_linear, gamma=best_gamma_linear, kernel=\"linear\")\n",
    "classifier.fit(X_train,np.ravel(y_train))\n",
    "print(\"Linear kernel classification for the training data: \", classifier.score(X_train,y_train)) #0.875\n",
    "\n",
    "print(\"Best C for gaussian: \", best_C_gaussian) #0.3\n",
    "print(\"Best gamma for gaussian: \", best_gamma_gaussian) #0.1\n",
    "classifier = SVC(C=best_C_gaussian, gamma=best_gamma_gaussian, kernel=\"rbf\")\n",
    "classifier.fit(X_train,np.ravel(y_train))\n",
    "print(\"Gaussian kernel classifier for the training data: \", classifier.score(X_train,y_train)) #0.96484375"
   ]
  },
  {
   "cell_type": "code",
   "execution_count": 21,
   "metadata": {},
   "outputs": [
    {
     "name": "stdout",
     "output_type": "stream",
     "text": [
      "Accuracy linear:  0.796875\n",
      "Recall linear:  0.75\n",
      "Specify linear:  0.8571428571428571\n",
      "Precision linear:  0.8709677419354839\n",
      "F1 linear:  0.8059701492537312\n"
     ]
    },
    {
     "data": {
      "image/png": "[encoded data removed]",
      "text/plain": [
       "<Figure size 432x288 with 2 Axes>"
      ]
     },
     "metadata": {
      "needs_background": "light"
     },
     "output_type": "display_data"
    }
   ],
   "source": [
    "from sklearn.metrics import confusion_matrix\n",
    "classifier = SVC(C=best_C_linear,gamma=best_gamma_linear, kernel=\"linear\")\n",
    "classifier.fit(X_train,np.ravel(y_train))\n",
    "prediction = classifier.predict(X_val)\n",
    "cm_test_linear = confusion_matrix(prediction, y_val)\n",
    "\n",
    "group_names = [\"True 0\",\"False 0\",\"False 1\",\"True 1\"]\n",
    "group_counts = [\"{0:0.0f}\".format(value) for value in cm_test_linear.flatten()]\n",
    "labels = [f\"{v1}\\n{v2}\" for v1,v2 in zip(group_names,group_counts)]\n",
    "labels = np.asarray(labels).reshape(2,2)\n",
    "sns.heatmap(cm_test_linear, annot=labels, fmt=\"\")\n",
    "\n",
    "tn_linear = cm_test_linear[0][0]\n",
    "fp_linear = cm_test_linear[1][0]\n",
    "fn_linear = cm_test_linear[0][1]\n",
    "tp_linear = cm_test_linear[1][1]\n",
    "\n",
    "accuracy_linear = (tp_linear + tn_linear) / (tp_linear + tn_linear + fp_linear + fn_linear)\n",
    "recall_linear = (tp_linear) / (tp_linear + fn_linear)\n",
    "specifity_linear = (tn_linear) / (tn_linear + fp_linear)\n",
    "precision_linear = (tp_linear) / (tp_linear + fp_linear)\n",
    "F1_linear = 2*(recall_linear * precision_linear)/(recall_linear+precision_linear)\n",
    "\n",
    "print(\"Accuracy linear: \", accuracy_linear) #0.78125\n",
    "print(\"Recall linear: \", recall_linear) #0.7777777777777778\n",
    "print(\"Specify linear: \", specifity_linear) #0.7857142857142857\n",
    "print(\"Precision linear: \", precision_linear) #0.8235294117647058\n",
    "print(\"F1 linear: \", F1_linear) #0.7999999999999999"
   ]
  },
  {
   "cell_type": "code",
   "execution_count": 22,
   "metadata": {},
   "outputs": [
    {
     "name": "stdout",
     "output_type": "stream",
     "text": [
      "Accuracy gaussian:  0.828125\n",
      "Recall gaussian:  0.8333333333333334\n",
      "Specify gaussian:  0.8214285714285714\n",
      "Precision gaussian:  0.8571428571428571\n",
      "F1 gaussian:  0.8450704225352113\n"
     ]
    },
    {
     "data": {
      "image/png": "[encoded data removed]",
      "text/plain": [
       "<Figure size 432x288 with 2 Axes>"
      ]
     },
     "metadata": {
      "needs_background": "light"
     },
     "output_type": "display_data"
    }
   ],
   "source": [
    "from sklearn.metrics import confusion_matrix\n",
    "classifier = SVC(C=best_C_gaussian,gamma=best_gamma_gaussian, kernel=\"rbf\")\n",
    "classifier.fit(X_train,np.ravel(y_train))\n",
    "prediction = classifier.predict(X_val)\n",
    "cm_test_gaussian = confusion_matrix(prediction, y_val)\n",
    "\n",
    "group_names = [\"True 0\",\"False 0\",\"False 1\",\"True 1\"]\n",
    "group_counts = [\"{0:0.0f}\".format(value) for value in cm_test_gaussian.flatten()]\n",
    "labels = [f\"{v1}\\n{v2}\" for v1,v2 in zip(group_names,group_counts)]\n",
    "labels = np.asarray(labels).reshape(2,2)\n",
    "sns.heatmap(cm_test_gaussian, annot=labels, fmt=\"\")\n",
    "\n",
    "tn_gaussian = cm_test_gaussian[0][0]\n",
    "fp_gaussian = cm_test_gaussian[1][0]\n",
    "fn_gaussian = cm_test_gaussian[0][1]\n",
    "tp_gaussian = cm_test_gaussian[1][1]\n",
    "\n",
    "accuracy_gaussian = (tp_gaussian + tn_gaussian) / (tp_gaussian + tn_gaussian + fp_gaussian + fn_gaussian)\n",
    "recall_gaussian = (tp_gaussian) / (tp_gaussian + fn_gaussian)\n",
    "specifity_gaussian = (tn_gaussian) / (tn_gaussian + fp_gaussian)\n",
    "precision_gaussian = (tp_gaussian) / (tp_gaussian + fp_gaussian)\n",
    "F1_gaussian = 2*(recall_gaussian * precision_gaussian)/(recall_gaussian+precision_gaussian)\n",
    "\n",
    "print(\"Accuracy gaussian: \", accuracy_gaussian) #0.84375\n",
    "print(\"Recall gaussian: \", recall_gaussian) #0.8888888888888888\n",
    "print(\"Specify gaussian: \", specifity_gaussian) #0.7857142857142857\n",
    "print(\"Precision gaussian: \", precision_gaussian) #0.8421052631578947\n",
    "print(\"F1 gaussian: \", F1_gaussian) #0.8648648648648649"
   ]
  },
  {
   "cell_type": "code",
   "execution_count": 23,
   "metadata": {
    "scrolled": true
   },
   "outputs": [
    {
     "data": {
      "text/plain": [
       "(array([160.,   0., 160.,   0.,   0., 160.,   0., 160.,   0., 160.]),\n",
       " array([0. , 0.4, 0.8, 1.2, 1.6, 2. , 2.4, 2.8, 3.2, 3.6, 4. ]),\n",
       " <a list of 10 Patch objects>)"
      ]
     },
     "execution_count": 23,
     "metadata": {},
     "output_type": "execute_result"
    },
    {
     "data": {
      "image/png": "[encoded data removed]",
      "text/plain": [
       "<Figure size 432x288 with 1 Axes>"
      ]
     },
     "metadata": {
      "needs_background": "light"
     },
     "output_type": "display_data"
    }
   ],
   "source": [
    "data_n = data.values\n",
    "\n",
    "X = data_n[:,:-1]\n",
    "y = data_n[:,-1]\n",
    "\n",
    "import imblearn\n",
    "\n",
    "from imblearn.over_sampling import RandomOverSampler\n",
    "\n",
    "ros = RandomOverSampler()\n",
    "X_ros, y_ros = ros.fit_sample(X, y)\n",
    "\n",
    "plt.title(\"Count of diagnosis samples\")\n",
    "plt.xlabel(\"Diagnosis\")\n",
    "plt.ylabel(\"Count\")\n",
    "plt.hist(y_ros)"
   ]
  },
  {
   "cell_type": "code",
   "execution_count": 24,
   "metadata": {},
   "outputs": [],
   "source": [
    "X_ros, mean_X, std_X = featureNormalization(X_ros)\n",
    "\n",
    "from sklearn.model_selection import train_test_split\n",
    "X_train, X_val, y_train, y_val = train_test_split(X_ros, y_ros, test_size = 0.2, random_state = 0)\n",
    "\n",
    "y_train = y_train.reshape(y_train.shape[0],1)\n",
    "y_val = y_val.reshape(y_val.shape[0],1)"
   ]
  },
  {
   "cell_type": "code",
   "execution_count": 25,
   "metadata": {},
   "outputs": [
    {
     "name": "stdout",
     "output_type": "stream",
     "text": [
      "Linear kernel classification:  0.6328125\n",
      "Gaussian kernel classification:  0.8953125\n"
     ]
    }
   ],
   "source": [
    "from sklearn.svm import SVC\n",
    "\n",
    "classifier = SVC(kernel=\"linear\")\n",
    "classifier.fit(X_train,np.ravel(y_train))\n",
    "print(\"Linear kernel classification: \", classifier.score(X_train,y_train))\n",
    "\n",
    "classifier = SVC(kernel=\"rbf\")\n",
    "classifier.fit(X_train,np.ravel(y_train))\n",
    "print(\"Gaussian kernel classification: \", classifier.score(X_train,y_train))"
   ]
  },
  {
   "cell_type": "code",
   "execution_count": 26,
   "metadata": {},
   "outputs": [
    {
     "name": "stdout",
     "output_type": "stream",
     "text": [
      "Best C for linear:  0.3\n",
      "Best gamma for linear:  100.0\n",
      "Linear kernel classification for the training data:  0.646875\n",
      "Best C for gaussian:  1\n",
      "Best gamma for gaussian:  100.0\n",
      "Gaussian kernel classifier for the training data:  1.0\n"
     ]
    }
   ],
   "source": [
    "vals = [0.01,0.03,0.3,1,3,10,30]\n",
    "best_C_linear, best_gamma_linear = definingParamsLinear(X_train, y_train.ravel(), X_val, y_val.ravel(),vals)\n",
    "best_C_gaussian, best_gamma_gaussian = definingParamsGaussian(X_train, y_train.ravel(), X_val, y_val.ravel(),vals)\n",
    "print(\"Best C for linear: \", best_C_linear) #0.01\n",
    "print(\"Best gamma for linear: \", best_gamma_linear) #100.0\n",
    "classifier = SVC(C=best_C_linear, gamma=best_gamma_linear, kernel=\"linear\")\n",
    "classifier.fit(X_train,np.ravel(y_train))\n",
    "print(\"Linear kernel classification for the training data: \", classifier.score(X_train,y_train))\n",
    "print(\"Best C for gaussian: \", best_C_gaussian) #0.3\n",
    "print(\"Best gamma for gaussian: \", best_gamma_gaussian) #0.1\n",
    "classifier = SVC(C=best_C_gaussian, gamma=best_gamma_gaussian, kernel=\"rbf\")\n",
    "classifier.fit(X_train,np.ravel(y_train))\n",
    "print(\"Gaussian kernel classifier for the training data: \", classifier.score(X_train,y_train))\n"
   ]
  },
  {
   "cell_type": "code",
   "execution_count": 27,
   "metadata": {
    "scrolled": true
   },
   "outputs": [
    {
     "name": "stdout",
     "output_type": "stream",
     "text": [
      "Accuracy linear:  0.55\n"
     ]
    },
    {
     "data": {
      "image/png": "[encoded data removed]",
      "text/plain": [
       "<Figure size 432x288 with 2 Axes>"
      ]
     },
     "metadata": {
      "needs_background": "light"
     },
     "output_type": "display_data"
    }
   ],
   "source": [
    "from sklearn.metrics import confusion_matrix\n",
    "classifier = SVC(C=best_C_linear,gamma=best_gamma_linear, kernel=\"linear\")\n",
    "classifier.fit(X_train,np.ravel(y_train))\n",
    "prediction = classifier.predict(X_val)\n",
    "cm_test_linear = confusion_matrix(prediction, y_val)\n",
    "\n",
    "\n",
    "t0_linear = cm_test_linear[0][0]\n",
    "f0_linear = cm_test_linear[0][1]+cm_test_linear[0][2]+cm_test_linear[0][3]+cm_test_linear[0][4]\n",
    "t1_linear = cm_test_linear[1][1]\n",
    "f1_linear = cm_test_linear[1][0]+cm_test_linear[1][2]+cm_test_linear[1][3]+cm_test_linear[1][4]\n",
    "t2_linear = cm_test_linear[2][2]\n",
    "f2_linear = cm_test_linear[2][0]+cm_test_linear[2][1]+cm_test_linear[2][3]+cm_test_linear[2][4]\n",
    "t3_linear = cm_test_linear[3][3]\n",
    "f3_linear = cm_test_linear[3][0]+cm_test_linear[3][1]+cm_test_linear[3][2]+cm_test_linear[3][4]\n",
    "t4_linear = cm_test_linear[4][4]\n",
    "f4_linear = cm_test_linear[4][0]+cm_test_linear[4][1]+cm_test_linear[4][2]+cm_test_linear[4][3]\n",
    "\n",
    "cm_test_linear = np.array([[t0_linear, f0_linear],[t1_linear,f1_linear],[t2_linear,f2_linear],[t3_linear, f3_linear],[t4_linear, f4_linear]])\n",
    "\n",
    "correct_results_linear = t0_linear + t1_linear + t2_linear + t3_linear + t4_linear\n",
    "incorrect_results_linear = f0_linear + f1_linear + f2_linear + f3_linear + f4_linear\n",
    "\n",
    "group_names = [\"True 0\",\"False 0\",\"True 1\",\"False 1\",\"True 2\",\"False 2\",\"True 3\",\"False 3\",\"True 4\",\"False 4\"]\n",
    "group_counts = [\"{0:0.0f}\".format(value) for value in cm_test_linear.flatten()]\n",
    "labels = [f\"{v1}\\n{v2}\" for v1,v2 in zip(group_names,group_counts)]\n",
    "labels = np.asarray(labels).reshape(5,2)\n",
    "sns.heatmap(cm_test_linear, annot=labels, fmt=\"\")\n",
    "\n",
    "accuracy_linear = (t0_linear + t1_linear + t2_linear + t3_linear + t4_linear) / (t0_linear + t1_linear + t2_linear + t3_linear + t4_linear + f0_linear + f1_linear + f2_linear + f3_linear + f4_linear)\n",
    "\n",
    "print(\"Accuracy linear: \", accuracy_linear)"
   ]
  },
  {
   "cell_type": "code",
   "execution_count": 28,
   "metadata": {
    "scrolled": true
   },
   "outputs": [
    {
     "data": {
      "text/plain": [
       "Text(0.5, 1.0, 'Count of results using a linear kernel using a C of 0.3 and a gamma of 100.0')"
      ]
     },
     "execution_count": 28,
     "metadata": {},
     "output_type": "execute_result"
    },
    {
     "data": {
      "image/png": "[encoded data removed]",
      "text/plain": [
       "<Figure size 432x288 with 1 Axes>"
      ]
     },
     "metadata": {
      "needs_background": "light"
     },
     "output_type": "display_data"
    }
   ],
   "source": [
    "plt.bar(\"Correct results (\"+str(correct_results_linear)+\")\",correct_results_linear,0.5)\n",
    "plt.bar(\"Incorrect results (\"+str(incorrect_results_linear)+\")\",incorrect_results_linear, 0.5)\n",
    "plt.ylabel(\"Count\")\n",
    "plt.title(\"Count of results using a linear kernel using a C of \"+str(best_C_linear)+\" and a gamma of \"+str(best_gamma_linear))"
   ]
  },
  {
   "cell_type": "code",
   "execution_count": 29,
   "metadata": {
    "scrolled": false
   },
   "outputs": [
    {
     "name": "stdout",
     "output_type": "stream",
     "text": [
      "Accuracy gaussian:  1.0\n"
     ]
    },
    {
     "data": {
      "image/png": "[encoded data removed]",
      "text/plain": [
       "<Figure size 432x288 with 2 Axes>"
      ]
     },
     "metadata": {
      "needs_background": "light"
     },
     "output_type": "display_data"
    }
   ],
   "source": [
    "from sklearn.metrics import confusion_matrix\n",
    "classifier = SVC(C=best_C_gaussian,gamma=best_gamma_gaussian, kernel=\"rbf\")\n",
    "classifier.fit(X_train,np.ravel(y_train))\n",
    "prediction = classifier.predict(X_val)\n",
    "cm_test_gaussian = confusion_matrix(prediction, y_val)\n",
    "\n",
    "# cnt = 0\n",
    "\n",
    "# for i in range(len(prediction)):\n",
    "#     if prediction[i] == 3:\n",
    "#         if y_val[i] != 3:\n",
    "#             cnt = cnt + 1\n",
    "# print(cnt)\n",
    "\n",
    "t0_gaussian = cm_test_gaussian[0][0]\n",
    "f0_gaussian = cm_test_gaussian[0][1]+cm_test_gaussian[0][2]+cm_test_gaussian[0][3]+cm_test_gaussian[0][4]\n",
    "t1_gaussian = cm_test_gaussian[1][1]\n",
    "f1_gaussian = cm_test_gaussian[1][0]+cm_test_gaussian[1][2]+cm_test_gaussian[1][3]+cm_test_gaussian[1][4]\n",
    "t2_gaussian = cm_test_gaussian[2][2]\n",
    "f2_gaussian = cm_test_gaussian[2][0]+cm_test_gaussian[2][1]+cm_test_gaussian[2][3]+cm_test_gaussian[2][4]\n",
    "t3_gaussian = cm_test_gaussian[3][3]\n",
    "f3_gaussian = cm_test_gaussian[3][0]+cm_test_gaussian[3][1]+cm_test_gaussian[3][2]+cm_test_gaussian[3][4]\n",
    "t4_gaussian = cm_test_gaussian[4][4]\n",
    "f4_gaussian = cm_test_gaussian[4][0]+cm_test_gaussian[4][1]+cm_test_gaussian[4][2]+cm_test_gaussian[4][3]\n",
    "\n",
    "cm_test_gaussian = np.array([[t0_gaussian, f0_gaussian],[t1_gaussian,f1_gaussian],[t2_gaussian,f2_gaussian],[t3_gaussian, f3_gaussian],[t4_gaussian, f4_gaussian]])\n",
    "\n",
    "correct_results_gaussian = t0_gaussian + t1_gaussian + t2_gaussian + t3_gaussian + t4_gaussian\n",
    "incorrect_results_gaussian = f0_gaussian + f1_gaussian + f2_gaussian + f3_gaussian + f4_gaussian\n",
    "\n",
    "group_names = [\"True 0\",\"False 0\",\"True 1\",\"False 1\",\"True 2\",\"False 2\",\"True 3\",\"False 3\",\"True 4\",\"False 4\"]\n",
    "group_counts = [\"{0:0.0f}\".format(value) for value in cm_test_gaussian.flatten()]\n",
    "labels = [f\"{v1}\\n{v2}\" for v1,v2 in zip(group_names,group_counts)]\n",
    "labels = np.asarray(labels).reshape(5,2)\n",
    "sns.heatmap(cm_test_gaussian, annot=labels, fmt=\"\")\n",
    "\n",
    "accuracy_gaussian = (t0_gaussian + t1_gaussian + t2_gaussian + t3_gaussian + t4_gaussian) / (t0_gaussian + t1_gaussian + t2_gaussian + t3_gaussian + t4_gaussian + f0_gaussian + f1_gaussian + f2_gaussian + f3_gaussian + f4_gaussian)\n",
    "\n",
    "print(\"Accuracy gaussian: \", accuracy_gaussian)"
   ]
  },
  {
   "cell_type": "code",
   "execution_count": 30,
   "metadata": {},
   "outputs": [
    {
     "data": {
      "text/plain": [
       "Text(0.5, 1.0, 'Count of results using a Gaussian kernel using a C of 1 and a gamma of 100.0')"
      ]
     },
     "execution_count": 30,
     "metadata": {},
     "output_type": "execute_result"
    },
    {
     "data": {
      "image/png": "[encoded data removed]",
      "text/plain": [
       "<Figure size 432x288 with 1 Axes>"
      ]
     },
     "metadata": {
      "needs_background": "light"
     },
     "output_type": "display_data"
    }
   ],
   "source": [
    "plt.bar(\"Correct results (\"+str(correct_results_gaussian)+\")\",correct_results_gaussian,0.5)\n",
    "plt.bar(\"Incorrect results (\"+str(incorrect_results_gaussian)+\")\",incorrect_results_gaussian, 0.5)\n",
    "plt.ylabel(\"Count\")\n",
    "plt.title(\"Count of results using a Gaussian kernel using a C of \"+str(best_C_gaussian)+\" and a gamma of \"+str(best_gamma_gaussian))"
   ]
  },
  {
   "cell_type": "code",
   "execution_count": 31,
   "metadata": {},
   "outputs": [
    {
     "ename": "NameError",
     "evalue": "name 'X_1' is not defined",
     "output_type": "error",
     "traceback": [
      "\u001b[0;31m---------------------------------------------------------------------------\u001b[0m",
      "\u001b[0;31mNameError\u001b[0m                                 Traceback (most recent call last)",
      "\u001b[0;32m<ipython-input-31-d7405a7ae2ff>\u001b[0m in \u001b[0;36m<module>\u001b[0;34m\u001b[0m\n\u001b[1;32m     18\u001b[0m \u001b[0;34m\u001b[0m\u001b[0m\n\u001b[1;32m     19\u001b[0m \u001b[0mnum\u001b[0m\u001b[0;34m=\u001b[0m\u001b[0;36m297\u001b[0m\u001b[0;34m\u001b[0m\u001b[0;34m\u001b[0m\u001b[0m\n\u001b[0;32m---> 20\u001b[0;31m \u001b[0mplt\u001b[0m\u001b[0;34m.\u001b[0m\u001b[0mcontour\u001b[0m\u001b[0;34m(\u001b[0m\u001b[0mX_1\u001b[0m\u001b[0;34m,\u001b[0m\u001b[0mX_2\u001b[0m\u001b[0;34m,\u001b[0m\u001b[0mclassifier\u001b[0m\u001b[0;34m.\u001b[0m\u001b[0mpredict\u001b[0m\u001b[0;34m(\u001b[0m\u001b[0mnp\u001b[0m\u001b[0;34m.\u001b[0m\u001b[0marray\u001b[0m\u001b[0;34m(\u001b[0m\u001b[0;34m[\u001b[0m\u001b[0mX_1\u001b[0m\u001b[0;34m.\u001b[0m\u001b[0mravel\u001b[0m\u001b[0;34m(\u001b[0m\u001b[0;34m)\u001b[0m\u001b[0;34m,\u001b[0m\u001b[0mX_2\u001b[0m\u001b[0;34m.\u001b[0m\u001b[0mravel\u001b[0m\u001b[0;34m(\u001b[0m\u001b[0;34m)\u001b[0m\u001b[0;34m]\u001b[0m\u001b[0;34m)\u001b[0m\u001b[0;34m.\u001b[0m\u001b[0mT\u001b[0m\u001b[0;34m)\u001b[0m\u001b[0;34m.\u001b[0m\u001b[0mreshape\u001b[0m\u001b[0;34m(\u001b[0m\u001b[0mX_1\u001b[0m\u001b[0;34m.\u001b[0m\u001b[0mshape\u001b[0m\u001b[0;34m)\u001b[0m\u001b[0;34m,\u001b[0m\u001b[0;36m1\u001b[0m\u001b[0;34m,\u001b[0m\u001b[0mcolors\u001b[0m\u001b[0;34m=\u001b[0m\u001b[0;34m\"y\"\u001b[0m\u001b[0;34m)\u001b[0m\u001b[0;34m\u001b[0m\u001b[0;34m\u001b[0m\u001b[0m\n\u001b[0m\u001b[1;32m     21\u001b[0m \u001b[0mplt\u001b[0m\u001b[0;34m.\u001b[0m\u001b[0mshow\u001b[0m\u001b[0;34m(\u001b[0m\u001b[0;34m)\u001b[0m\u001b[0;34m\u001b[0m\u001b[0;34m\u001b[0m\u001b[0m\n",
      "\u001b[0;31mNameError\u001b[0m: name 'X_1' is not defined"
     ]
    },
    {
     "data": {
      "image/png": "[encoded data removed]",
      "text/plain": [
       "<Figure size 432x288 with 1 Axes>"
      ]
     },
     "metadata": {
      "needs_background": "light"
     },
     "output_type": "display_data"
    }
   ],
   "source": [
    "data_n = data_binary.values\n",
    "\n",
    "X = data_n[:,:-1]\n",
    "y = data_n[:,-1]\n",
    "\n",
    "y = y.reshape(X.shape[0],1)\n",
    "\n",
    "diag0 = (y==0)\n",
    "diag1 = (y==1)\n",
    "\n",
    "plt.scatter(X[diag0[:,0],0],X[diag0[:,0],3],c='#1f77b4',marker=\"+\")\n",
    "plt.scatter(X[diag1[:,0],0],X[diag1[:,0],3],c=\"#ff7f0e\",marker=\"o\")\n",
    "plt.xticks(np.arange(28, 78, 10))\n",
    "plt.yticks(np.arange(0, 2, 1))\n",
    "plt.xlabel(\"Age in years\")\n",
    "plt.ylabel(\"Sex (0 = female; 1 = male)\")\n",
    "plt.legend([\"Diagnosis 0\", \"Diagnosis 1\", \"Diagnosis 2\", \"Diagnosis 3\", \"Diagnosis 4\"])\n",
    "\n",
    "num=297\n",
    "plt.contour(X_1,X_2,classifier.predict(np.array([X_1.ravel(),X_2.ravel()]).T).reshape(X_1.shape),1,colors=\"y\")\n",
    "plt.show()"
   ]
  },
  {
   "cell_type": "code",
   "execution_count": null,
   "metadata": {},
   "outputs": [],
   "source": []
  }
 ],
 "metadata": {
  "kernelspec": {
   "display_name": "Python 3",
   "language": "python",
   "name": "python3"
  },
  "language_info": {
   "codemirror_mode": {
    "name": "ipython",
    "version": 3
   },
   "file_extension": ".py",
   "mimetype": "text/x-python",
   "name": "python",
   "nbconvert_exporter": "python",
   "pygments_lexer": "ipython3",
   "version": "3.8.3"
  }
 },
 "nbformat": 4,
 "nbformat_minor": 4
}
